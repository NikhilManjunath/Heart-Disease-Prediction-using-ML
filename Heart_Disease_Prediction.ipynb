{
  "nbformat": 4,
  "nbformat_minor": 0,
  "metadata": {
    "kernelspec": {
      "display_name": "Python 3",
      "language": "python",
      "name": "python3"
    },
    "language_info": {
      "codemirror_mode": {
        "name": "ipython",
        "version": 3
      },
      "file_extension": ".py",
      "mimetype": "text/x-python",
      "name": "python",
      "nbconvert_exporter": "python",
      "pygments_lexer": "ipython3",
      "version": "3.7.6"
    },
    "colab": {
      "name": "Heart Disease Prediction.ipynb",
      "provenance": [],
      "collapsed_sections": [],
      "include_colab_link": true
    }
  },
  "cells": [
    {
      "cell_type": "markdown",
      "metadata": {
        "id": "view-in-github",
        "colab_type": "text"
      },
      "source": [
        "<a href=\"https://colab.research.google.com/github/NikhilManjunath/Heart-Disease-Prediction-using-ML/blob/main/Heart_Disease_Prediction.ipynb\" target=\"_parent\"><img src=\"https://colab.research.google.com/assets/colab-badge.svg\" alt=\"Open In Colab\"/></a>"
      ]
    },
    {
      "cell_type": "markdown",
      "metadata": {
        "id": "VEejIo8htvZ5"
      },
      "source": [
        "# Heart Disease Prediction\n"
      ]
    },
    {
      "cell_type": "markdown",
      "metadata": {
        "id": "pgQ_vmZ7yqJq"
      },
      "source": [
        "**STEP 1: Importing the Libraries**"
      ]
    },
    {
      "cell_type": "code",
      "metadata": {
        "id": "8-tTWk4utvZ7"
      },
      "source": [
        "import numpy as np\n",
        "import pandas as pd\n",
        "import matplotlib.pyplot as plt\n",
        "import seaborn as sns\n",
        "\n",
        "%matplotlib inline"
      ],
      "execution_count": null,
      "outputs": []
    },
    {
      "cell_type": "markdown",
      "metadata": {
        "id": "kxIUAFUHyo5d"
      },
      "source": [
        "**STEP 2: Importing the Dataset**"
      ]
    },
    {
      "cell_type": "code",
      "metadata": {
        "id": "9avnR3gbtvZ-"
      },
      "source": [
        "data = pd.read_csv(\"heart.csv\")\n",
        "X = data.iloc[:, :-1].values\n",
        "y = data.iloc[:, -1].values"
      ],
      "execution_count": null,
      "outputs": []
    },
    {
      "cell_type": "markdown",
      "metadata": {
        "id": "HXvy3NYPtvaB"
      },
      "source": [
        "##### Understanding the data and its dimension"
      ]
    },
    {
      "cell_type": "code",
      "metadata": {
        "id": "NfNDAM-0tvaC",
        "colab": {
          "base_uri": "https://localhost:8080/"
        },
        "outputId": "9f7bd4cf-73be-459f-ed28-79881f4252f0"
      },
      "source": [
        "data.shape"
      ],
      "execution_count": null,
      "outputs": [
        {
          "output_type": "execute_result",
          "data": {
            "text/plain": [
              "(303, 14)"
            ]
          },
          "metadata": {},
          "execution_count": 4
        }
      ]
    },
    {
      "cell_type": "code",
      "metadata": {
        "id": "ImsBtrLatvaF",
        "colab": {
          "base_uri": "https://localhost:8080/",
          "height": 204
        },
        "outputId": "40eb0b47-4c0b-4f80-803b-3725f165ecd0"
      },
      "source": [
        "data.head(5)"
      ],
      "execution_count": null,
      "outputs": [
        {
          "output_type": "execute_result",
          "data": {
            "text/html": [
              "<div>\n",
              "<style scoped>\n",
              "    .dataframe tbody tr th:only-of-type {\n",
              "        vertical-align: middle;\n",
              "    }\n",
              "\n",
              "    .dataframe tbody tr th {\n",
              "        vertical-align: top;\n",
              "    }\n",
              "\n",
              "    .dataframe thead th {\n",
              "        text-align: right;\n",
              "    }\n",
              "</style>\n",
              "<table border=\"1\" class=\"dataframe\">\n",
              "  <thead>\n",
              "    <tr style=\"text-align: right;\">\n",
              "      <th></th>\n",
              "      <th>age</th>\n",
              "      <th>sex</th>\n",
              "      <th>cp</th>\n",
              "      <th>trestbps</th>\n",
              "      <th>chol</th>\n",
              "      <th>fbs</th>\n",
              "      <th>restecg</th>\n",
              "      <th>thalach</th>\n",
              "      <th>exang</th>\n",
              "      <th>oldpeak</th>\n",
              "      <th>slope</th>\n",
              "      <th>ca</th>\n",
              "      <th>thal</th>\n",
              "      <th>target</th>\n",
              "    </tr>\n",
              "  </thead>\n",
              "  <tbody>\n",
              "    <tr>\n",
              "      <th>0</th>\n",
              "      <td>63</td>\n",
              "      <td>1</td>\n",
              "      <td>3</td>\n",
              "      <td>145</td>\n",
              "      <td>233</td>\n",
              "      <td>1</td>\n",
              "      <td>0</td>\n",
              "      <td>150</td>\n",
              "      <td>0</td>\n",
              "      <td>2.3</td>\n",
              "      <td>0</td>\n",
              "      <td>0</td>\n",
              "      <td>1</td>\n",
              "      <td>1</td>\n",
              "    </tr>\n",
              "    <tr>\n",
              "      <th>1</th>\n",
              "      <td>37</td>\n",
              "      <td>1</td>\n",
              "      <td>2</td>\n",
              "      <td>130</td>\n",
              "      <td>250</td>\n",
              "      <td>0</td>\n",
              "      <td>1</td>\n",
              "      <td>187</td>\n",
              "      <td>0</td>\n",
              "      <td>3.5</td>\n",
              "      <td>0</td>\n",
              "      <td>0</td>\n",
              "      <td>2</td>\n",
              "      <td>1</td>\n",
              "    </tr>\n",
              "    <tr>\n",
              "      <th>2</th>\n",
              "      <td>41</td>\n",
              "      <td>0</td>\n",
              "      <td>1</td>\n",
              "      <td>130</td>\n",
              "      <td>204</td>\n",
              "      <td>0</td>\n",
              "      <td>0</td>\n",
              "      <td>172</td>\n",
              "      <td>0</td>\n",
              "      <td>1.4</td>\n",
              "      <td>2</td>\n",
              "      <td>0</td>\n",
              "      <td>2</td>\n",
              "      <td>1</td>\n",
              "    </tr>\n",
              "    <tr>\n",
              "      <th>3</th>\n",
              "      <td>56</td>\n",
              "      <td>1</td>\n",
              "      <td>1</td>\n",
              "      <td>120</td>\n",
              "      <td>236</td>\n",
              "      <td>0</td>\n",
              "      <td>1</td>\n",
              "      <td>178</td>\n",
              "      <td>0</td>\n",
              "      <td>0.8</td>\n",
              "      <td>2</td>\n",
              "      <td>0</td>\n",
              "      <td>2</td>\n",
              "      <td>1</td>\n",
              "    </tr>\n",
              "    <tr>\n",
              "      <th>4</th>\n",
              "      <td>57</td>\n",
              "      <td>0</td>\n",
              "      <td>0</td>\n",
              "      <td>120</td>\n",
              "      <td>354</td>\n",
              "      <td>0</td>\n",
              "      <td>1</td>\n",
              "      <td>163</td>\n",
              "      <td>1</td>\n",
              "      <td>0.6</td>\n",
              "      <td>2</td>\n",
              "      <td>0</td>\n",
              "      <td>2</td>\n",
              "      <td>1</td>\n",
              "    </tr>\n",
              "  </tbody>\n",
              "</table>\n",
              "</div>"
            ],
            "text/plain": [
              "   age  sex  cp  trestbps  chol  fbs  ...  exang  oldpeak  slope  ca  thal  target\n",
              "0   63    1   3       145   233    1  ...      0      2.3      0   0     1       1\n",
              "1   37    1   2       130   250    0  ...      0      3.5      0   0     2       1\n",
              "2   41    0   1       130   204    0  ...      0      1.4      2   0     2       1\n",
              "3   56    1   1       120   236    0  ...      0      0.8      2   0     2       1\n",
              "4   57    0   0       120   354    0  ...      1      0.6      2   0     2       1\n",
              "\n",
              "[5 rows x 14 columns]"
            ]
          },
          "metadata": {},
          "execution_count": 5
        }
      ]
    },
    {
      "cell_type": "code",
      "metadata": {
        "id": "AfIZrT8BtvaL",
        "colab": {
          "base_uri": "https://localhost:8080/",
          "height": 317
        },
        "outputId": "4f01dd77-ef4d-4373-8212-9d786d24bb0f"
      },
      "source": [
        "data.describe()"
      ],
      "execution_count": null,
      "outputs": [
        {
          "output_type": "execute_result",
          "data": {
            "text/html": [
              "<div>\n",
              "<style scoped>\n",
              "    .dataframe tbody tr th:only-of-type {\n",
              "        vertical-align: middle;\n",
              "    }\n",
              "\n",
              "    .dataframe tbody tr th {\n",
              "        vertical-align: top;\n",
              "    }\n",
              "\n",
              "    .dataframe thead th {\n",
              "        text-align: right;\n",
              "    }\n",
              "</style>\n",
              "<table border=\"1\" class=\"dataframe\">\n",
              "  <thead>\n",
              "    <tr style=\"text-align: right;\">\n",
              "      <th></th>\n",
              "      <th>age</th>\n",
              "      <th>sex</th>\n",
              "      <th>cp</th>\n",
              "      <th>trestbps</th>\n",
              "      <th>chol</th>\n",
              "      <th>fbs</th>\n",
              "      <th>restecg</th>\n",
              "      <th>thalach</th>\n",
              "      <th>exang</th>\n",
              "      <th>oldpeak</th>\n",
              "      <th>slope</th>\n",
              "      <th>ca</th>\n",
              "      <th>thal</th>\n",
              "      <th>target</th>\n",
              "    </tr>\n",
              "  </thead>\n",
              "  <tbody>\n",
              "    <tr>\n",
              "      <th>count</th>\n",
              "      <td>303.000000</td>\n",
              "      <td>303.000000</td>\n",
              "      <td>303.000000</td>\n",
              "      <td>303.000000</td>\n",
              "      <td>303.000000</td>\n",
              "      <td>303.000000</td>\n",
              "      <td>303.000000</td>\n",
              "      <td>303.000000</td>\n",
              "      <td>303.000000</td>\n",
              "      <td>303.000000</td>\n",
              "      <td>303.000000</td>\n",
              "      <td>303.000000</td>\n",
              "      <td>303.000000</td>\n",
              "      <td>303.000000</td>\n",
              "    </tr>\n",
              "    <tr>\n",
              "      <th>mean</th>\n",
              "      <td>54.366337</td>\n",
              "      <td>0.683168</td>\n",
              "      <td>0.966997</td>\n",
              "      <td>131.623762</td>\n",
              "      <td>246.264026</td>\n",
              "      <td>0.148515</td>\n",
              "      <td>0.528053</td>\n",
              "      <td>149.646865</td>\n",
              "      <td>0.326733</td>\n",
              "      <td>1.039604</td>\n",
              "      <td>1.399340</td>\n",
              "      <td>0.729373</td>\n",
              "      <td>2.313531</td>\n",
              "      <td>0.544554</td>\n",
              "    </tr>\n",
              "    <tr>\n",
              "      <th>std</th>\n",
              "      <td>9.082101</td>\n",
              "      <td>0.466011</td>\n",
              "      <td>1.032052</td>\n",
              "      <td>17.538143</td>\n",
              "      <td>51.830751</td>\n",
              "      <td>0.356198</td>\n",
              "      <td>0.525860</td>\n",
              "      <td>22.905161</td>\n",
              "      <td>0.469794</td>\n",
              "      <td>1.161075</td>\n",
              "      <td>0.616226</td>\n",
              "      <td>1.022606</td>\n",
              "      <td>0.612277</td>\n",
              "      <td>0.498835</td>\n",
              "    </tr>\n",
              "    <tr>\n",
              "      <th>min</th>\n",
              "      <td>29.000000</td>\n",
              "      <td>0.000000</td>\n",
              "      <td>0.000000</td>\n",
              "      <td>94.000000</td>\n",
              "      <td>126.000000</td>\n",
              "      <td>0.000000</td>\n",
              "      <td>0.000000</td>\n",
              "      <td>71.000000</td>\n",
              "      <td>0.000000</td>\n",
              "      <td>0.000000</td>\n",
              "      <td>0.000000</td>\n",
              "      <td>0.000000</td>\n",
              "      <td>0.000000</td>\n",
              "      <td>0.000000</td>\n",
              "    </tr>\n",
              "    <tr>\n",
              "      <th>25%</th>\n",
              "      <td>47.500000</td>\n",
              "      <td>0.000000</td>\n",
              "      <td>0.000000</td>\n",
              "      <td>120.000000</td>\n",
              "      <td>211.000000</td>\n",
              "      <td>0.000000</td>\n",
              "      <td>0.000000</td>\n",
              "      <td>133.500000</td>\n",
              "      <td>0.000000</td>\n",
              "      <td>0.000000</td>\n",
              "      <td>1.000000</td>\n",
              "      <td>0.000000</td>\n",
              "      <td>2.000000</td>\n",
              "      <td>0.000000</td>\n",
              "    </tr>\n",
              "    <tr>\n",
              "      <th>50%</th>\n",
              "      <td>55.000000</td>\n",
              "      <td>1.000000</td>\n",
              "      <td>1.000000</td>\n",
              "      <td>130.000000</td>\n",
              "      <td>240.000000</td>\n",
              "      <td>0.000000</td>\n",
              "      <td>1.000000</td>\n",
              "      <td>153.000000</td>\n",
              "      <td>0.000000</td>\n",
              "      <td>0.800000</td>\n",
              "      <td>1.000000</td>\n",
              "      <td>0.000000</td>\n",
              "      <td>2.000000</td>\n",
              "      <td>1.000000</td>\n",
              "    </tr>\n",
              "    <tr>\n",
              "      <th>75%</th>\n",
              "      <td>61.000000</td>\n",
              "      <td>1.000000</td>\n",
              "      <td>2.000000</td>\n",
              "      <td>140.000000</td>\n",
              "      <td>274.500000</td>\n",
              "      <td>0.000000</td>\n",
              "      <td>1.000000</td>\n",
              "      <td>166.000000</td>\n",
              "      <td>1.000000</td>\n",
              "      <td>1.600000</td>\n",
              "      <td>2.000000</td>\n",
              "      <td>1.000000</td>\n",
              "      <td>3.000000</td>\n",
              "      <td>1.000000</td>\n",
              "    </tr>\n",
              "    <tr>\n",
              "      <th>max</th>\n",
              "      <td>77.000000</td>\n",
              "      <td>1.000000</td>\n",
              "      <td>3.000000</td>\n",
              "      <td>200.000000</td>\n",
              "      <td>564.000000</td>\n",
              "      <td>1.000000</td>\n",
              "      <td>2.000000</td>\n",
              "      <td>202.000000</td>\n",
              "      <td>1.000000</td>\n",
              "      <td>6.200000</td>\n",
              "      <td>2.000000</td>\n",
              "      <td>4.000000</td>\n",
              "      <td>3.000000</td>\n",
              "      <td>1.000000</td>\n",
              "    </tr>\n",
              "  </tbody>\n",
              "</table>\n",
              "</div>"
            ],
            "text/plain": [
              "              age         sex          cp  ...          ca        thal      target\n",
              "count  303.000000  303.000000  303.000000  ...  303.000000  303.000000  303.000000\n",
              "mean    54.366337    0.683168    0.966997  ...    0.729373    2.313531    0.544554\n",
              "std      9.082101    0.466011    1.032052  ...    1.022606    0.612277    0.498835\n",
              "min     29.000000    0.000000    0.000000  ...    0.000000    0.000000    0.000000\n",
              "25%     47.500000    0.000000    0.000000  ...    0.000000    2.000000    0.000000\n",
              "50%     55.000000    1.000000    1.000000  ...    0.000000    2.000000    1.000000\n",
              "75%     61.000000    1.000000    2.000000  ...    1.000000    3.000000    1.000000\n",
              "max     77.000000    1.000000    3.000000  ...    4.000000    3.000000    1.000000\n",
              "\n",
              "[8 rows x 14 columns]"
            ]
          },
          "metadata": {},
          "execution_count": 6
        }
      ]
    },
    {
      "cell_type": "markdown",
      "metadata": {
        "id": "TZYPCyEezxip"
      },
      "source": [
        "Verifying the Independant Variables"
      ]
    },
    {
      "cell_type": "code",
      "metadata": {
        "id": "dYKraSrEz36c",
        "colab": {
          "base_uri": "https://localhost:8080/"
        },
        "outputId": "753399ae-bb6c-4235-b9c1-18cd3cb6c37b"
      },
      "source": [
        "print(X)"
      ],
      "execution_count": null,
      "outputs": [
        {
          "output_type": "stream",
          "name": "stdout",
          "text": [
            "[[63.  1.  3. ...  0.  0.  1.]\n",
            " [37.  1.  2. ...  0.  0.  2.]\n",
            " [41.  0.  1. ...  2.  0.  2.]\n",
            " ...\n",
            " [68.  1.  0. ...  1.  2.  3.]\n",
            " [57.  1.  0. ...  1.  1.  3.]\n",
            " [57.  0.  1. ...  1.  1.  2.]]\n"
          ]
        }
      ]
    },
    {
      "cell_type": "markdown",
      "metadata": {
        "id": "zgc_mYlxz8x6"
      },
      "source": [
        "Verifying the Dependant Variable"
      ]
    },
    {
      "cell_type": "code",
      "metadata": {
        "id": "VtzRemWBz_oM",
        "colab": {
          "base_uri": "https://localhost:8080/"
        },
        "outputId": "b7208756-faa6-4bf6-cb8c-e4208503753a"
      },
      "source": [
        "print(y)"
      ],
      "execution_count": null,
      "outputs": [
        {
          "output_type": "stream",
          "name": "stdout",
          "text": [
            "[1 1 1 1 1 1 1 1 1 1 1 1 1 1 1 1 1 1 1 1 1 1 1 1 1 1 1 1 1 1 1 1 1 1 1 1 1\n",
            " 1 1 1 1 1 1 1 1 1 1 1 1 1 1 1 1 1 1 1 1 1 1 1 1 1 1 1 1 1 1 1 1 1 1 1 1 1\n",
            " 1 1 1 1 1 1 1 1 1 1 1 1 1 1 1 1 1 1 1 1 1 1 1 1 1 1 1 1 1 1 1 1 1 1 1 1 1\n",
            " 1 1 1 1 1 1 1 1 1 1 1 1 1 1 1 1 1 1 1 1 1 1 1 1 1 1 1 1 1 1 1 1 1 1 1 1 1\n",
            " 1 1 1 1 1 1 1 1 1 1 1 1 1 1 1 1 1 0 0 0 0 0 0 0 0 0 0 0 0 0 0 0 0 0 0 0 0\n",
            " 0 0 0 0 0 0 0 0 0 0 0 0 0 0 0 0 0 0 0 0 0 0 0 0 0 0 0 0 0 0 0 0 0 0 0 0 0\n",
            " 0 0 0 0 0 0 0 0 0 0 0 0 0 0 0 0 0 0 0 0 0 0 0 0 0 0 0 0 0 0 0 0 0 0 0 0 0\n",
            " 0 0 0 0 0 0 0 0 0 0 0 0 0 0 0 0 0 0 0 0 0 0 0 0 0 0 0 0 0 0 0 0 0 0 0 0 0\n",
            " 0 0 0 0 0 0 0]\n"
          ]
        }
      ]
    },
    {
      "cell_type": "markdown",
      "metadata": {
        "id": "NLJepj8gtvaQ"
      },
      "source": [
        "**STEP 3: Exploratory Data Analysis**"
      ]
    },
    {
      "cell_type": "markdown",
      "metadata": {
        "id": "4tPO6ZhN0gBm"
      },
      "source": [
        "*Analysing the **Age** feature:*"
      ]
    },
    {
      "cell_type": "code",
      "metadata": {
        "id": "YB0uI9DvtvaS",
        "colab": {
          "base_uri": "https://localhost:8080/",
          "height": 350
        },
        "outputId": "50e44f8b-4047-4d44-c952-288c59211634"
      },
      "source": [
        "sns.distplot(data[\"age\"])"
      ],
      "execution_count": null,
      "outputs": [
        {
          "output_type": "stream",
          "name": "stderr",
          "text": [
            "/usr/local/lib/python3.7/dist-packages/seaborn/distributions.py:2619: FutureWarning: `distplot` is a deprecated function and will be removed in a future version. Please adapt your code to use either `displot` (a figure-level function with similar flexibility) or `histplot` (an axes-level function for histograms).\n",
            "  warnings.warn(msg, FutureWarning)\n"
          ]
        },
        {
          "output_type": "execute_result",
          "data": {
            "text/plain": [
              "<matplotlib.axes._subplots.AxesSubplot at 0x7fc3e41f7550>"
            ]
          },
          "metadata": {},
          "execution_count": 9
        },
        {
          "output_type": "display_data",
          "data": {
            "image/png": "[encoded data removed]",
            "text/plain": [
              "<Figure size 432x288 with 1 Axes>"
            ]
          },
          "metadata": {
            "needs_background": "light"
          }
        }
      ]
    },
    {
      "cell_type": "markdown",
      "metadata": {
        "id": "_Lk4J81l0riY"
      },
      "source": [
        "*Analysing the **Chest Pain** Feature*"
      ]
    },
    {
      "cell_type": "code",
      "metadata": {
        "id": "NmxtbUNStvaY",
        "colab": {
          "base_uri": "https://localhost:8080/",
          "height": 350
        },
        "outputId": "c0c249b5-b7e3-4d7d-c193-a543cca5434f"
      },
      "source": [
        "sns.barplot(data[\"cp\"],y)"
      ],
      "execution_count": null,
      "outputs": [
        {
          "output_type": "stream",
          "name": "stderr",
          "text": [
            "/usr/local/lib/python3.7/dist-packages/seaborn/_decorators.py:43: FutureWarning: Pass the following variables as keyword args: x, y. From version 0.12, the only valid positional argument will be `data`, and passing other arguments without an explicit keyword will result in an error or misinterpretation.\n",
            "  FutureWarning\n"
          ]
        },
        {
          "output_type": "execute_result",
          "data": {
            "text/plain": [
              "<matplotlib.axes._subplots.AxesSubplot at 0x7fc3e1e65bd0>"
            ]
          },
          "metadata": {},
          "execution_count": 10
        },
        {
          "output_type": "display_data",
          "data": {
            "image/png": "[encoded data removed]",
            "text/plain": [
              "<Figure size 432x288 with 1 Axes>"
            ]
          },
          "metadata": {
            "needs_background": "light"
          }
        }
      ]
    },
    {
      "cell_type": "markdown",
      "metadata": {
        "id": "hLvHt-sN1TKQ"
      },
      "source": [
        "*Analysing **Resting Blood Pressure** Feature*"
      ]
    },
    {
      "cell_type": "code",
      "metadata": {
        "id": "KtWOzXKbtvad",
        "colab": {
          "base_uri": "https://localhost:8080/",
          "height": 350
        },
        "outputId": "c5175c35-2d69-49dc-e9f2-ef3dd3402345"
      },
      "source": [
        "sns.distplot(data[\"trestbps\"])"
      ],
      "execution_count": null,
      "outputs": [
        {
          "output_type": "stream",
          "name": "stderr",
          "text": [
            "/usr/local/lib/python3.7/dist-packages/seaborn/distributions.py:2619: FutureWarning: `distplot` is a deprecated function and will be removed in a future version. Please adapt your code to use either `displot` (a figure-level function with similar flexibility) or `histplot` (an axes-level function for histograms).\n",
            "  warnings.warn(msg, FutureWarning)\n"
          ]
        },
        {
          "output_type": "execute_result",
          "data": {
            "text/plain": [
              "<matplotlib.axes._subplots.AxesSubplot at 0x7fc3e19a3dd0>"
            ]
          },
          "metadata": {},
          "execution_count": 11
        },
        {
          "output_type": "display_data",
          "data": {
            "image/png": "[encoded data removed]",
            "text/plain": [
              "<Figure size 432x288 with 1 Axes>"
            ]
          },
          "metadata": {
            "needs_background": "light"
          }
        }
      ]
    },
    {
      "cell_type": "markdown",
      "metadata": {
        "id": "EmmF5g0u1Z3y"
      },
      "source": [
        "*Analysing the **Cholestrol** Feature*"
      ]
    },
    {
      "cell_type": "code",
      "metadata": {
        "id": "9F8uYiuetvai",
        "colab": {
          "base_uri": "https://localhost:8080/",
          "height": 350
        },
        "outputId": "a43c6623-1d24-4001-f1d0-ac0f681cd496"
      },
      "source": [
        "sns.distplot(data[\"chol\"])"
      ],
      "execution_count": null,
      "outputs": [
        {
          "output_type": "stream",
          "name": "stderr",
          "text": [
            "/usr/local/lib/python3.7/dist-packages/seaborn/distributions.py:2619: FutureWarning: `distplot` is a deprecated function and will be removed in a future version. Please adapt your code to use either `displot` (a figure-level function with similar flexibility) or `histplot` (an axes-level function for histograms).\n",
            "  warnings.warn(msg, FutureWarning)\n"
          ]
        },
        {
          "output_type": "execute_result",
          "data": {
            "text/plain": [
              "<matplotlib.axes._subplots.AxesSubplot at 0x7fc3e18e2850>"
            ]
          },
          "metadata": {},
          "execution_count": 12
        },
        {
          "output_type": "display_data",
          "data": {
            "image/png": "[encoded data removed]",
            "text/plain": [
              "<Figure size 432x288 with 1 Axes>"
            ]
          },
          "metadata": {
            "needs_background": "light"
          }
        }
      ]
    },
    {
      "cell_type": "markdown",
      "metadata": {
        "id": "mZ5dmFbq1xXP"
      },
      "source": [
        "*Analysing the **Maximum Heart Rate** feature*"
      ]
    },
    {
      "cell_type": "code",
      "metadata": {
        "id": "tIkBIoV7tvan",
        "colab": {
          "base_uri": "https://localhost:8080/",
          "height": 350
        },
        "outputId": "92b7e0c5-cf20-4cd1-8cfe-a34291cbc2d8"
      },
      "source": [
        "sns.distplot(data[\"thalach\"])"
      ],
      "execution_count": null,
      "outputs": [
        {
          "output_type": "stream",
          "name": "stderr",
          "text": [
            "/usr/local/lib/python3.7/dist-packages/seaborn/distributions.py:2619: FutureWarning: `distplot` is a deprecated function and will be removed in a future version. Please adapt your code to use either `displot` (a figure-level function with similar flexibility) or `histplot` (an axes-level function for histograms).\n",
            "  warnings.warn(msg, FutureWarning)\n"
          ]
        },
        {
          "output_type": "execute_result",
          "data": {
            "text/plain": [
              "<matplotlib.axes._subplots.AxesSubplot at 0x7fc3e1e57710>"
            ]
          },
          "metadata": {},
          "execution_count": 13
        },
        {
          "output_type": "display_data",
          "data": {
            "image/png": "[encoded data removed]",
            "text/plain": [
              "<Figure size 432x288 with 1 Axes>"
            ]
          },
          "metadata": {
            "needs_background": "light"
          }
        }
      ]
    },
    {
      "cell_type": "markdown",
      "metadata": {
        "id": "xz8RG4ce1-Ay"
      },
      "source": [
        "*Analysing the **Old Peak** Feature*"
      ]
    },
    {
      "cell_type": "code",
      "metadata": {
        "id": "F0sGhnfjtvar",
        "colab": {
          "base_uri": "https://localhost:8080/",
          "height": 351
        },
        "outputId": "e1bc2d2a-c873-4e4c-9ee1-35a9f20ad381"
      },
      "source": [
        "sns.distplot(data[\"oldpeak\"])"
      ],
      "execution_count": null,
      "outputs": [
        {
          "output_type": "stream",
          "name": "stderr",
          "text": [
            "/usr/local/lib/python3.7/dist-packages/seaborn/distributions.py:2619: FutureWarning: `distplot` is a deprecated function and will be removed in a future version. Please adapt your code to use either `displot` (a figure-level function with similar flexibility) or `histplot` (an axes-level function for histograms).\n",
            "  warnings.warn(msg, FutureWarning)\n"
          ]
        },
        {
          "output_type": "execute_result",
          "data": {
            "text/plain": [
              "<matplotlib.axes._subplots.AxesSubplot at 0x7fc3e1782c10>"
            ]
          },
          "metadata": {},
          "execution_count": 14
        },
        {
          "output_type": "display_data",
          "data": {
            "image/png": "[encoded data removed]",
            "text/plain": [
              "<Figure size 432x288 with 1 Axes>"
            ]
          },
          "metadata": {
            "needs_background": "light"
          }
        }
      ]
    },
    {
      "cell_type": "markdown",
      "metadata": {
        "id": "xXBC_ndj2DeZ"
      },
      "source": [
        "*Analysis of the **Sex** Feature*"
      ]
    },
    {
      "cell_type": "code",
      "metadata": {
        "id": "2doaoc822MLV",
        "colab": {
          "base_uri": "https://localhost:8080/",
          "height": 350
        },
        "outputId": "15fc01c4-1907-4408-e03a-aa2b24ab9fd7"
      },
      "source": [
        "sns.barplot(data[\"sex\"],y)"
      ],
      "execution_count": null,
      "outputs": [
        {
          "output_type": "stream",
          "name": "stderr",
          "text": [
            "/usr/local/lib/python3.7/dist-packages/seaborn/_decorators.py:43: FutureWarning: Pass the following variables as keyword args: x, y. From version 0.12, the only valid positional argument will be `data`, and passing other arguments without an explicit keyword will result in an error or misinterpretation.\n",
            "  FutureWarning\n"
          ]
        },
        {
          "output_type": "execute_result",
          "data": {
            "text/plain": [
              "<matplotlib.axes._subplots.AxesSubplot at 0x7fc3e17348d0>"
            ]
          },
          "metadata": {},
          "execution_count": 15
        },
        {
          "output_type": "display_data",
          "data": {
            "image/png": "[encoded data removed]",
            "text/plain": [
              "<Figure size 432x288 with 1 Axes>"
            ]
          },
          "metadata": {
            "needs_background": "light"
          }
        }
      ]
    },
    {
      "cell_type": "markdown",
      "metadata": {
        "id": "eFvfVe-l2ddC"
      },
      "source": [
        "*Analysis of **Fasting Blood Sugar** Feature*"
      ]
    },
    {
      "cell_type": "code",
      "metadata": {
        "id": "X0H6JYMR2doj",
        "colab": {
          "base_uri": "https://localhost:8080/",
          "height": 350
        },
        "outputId": "d2e3e96b-bfd1-4b55-941a-4848f9a66968"
      },
      "source": [
        "sns.barplot(data[\"fbs\"],y)"
      ],
      "execution_count": null,
      "outputs": [
        {
          "output_type": "stream",
          "name": "stderr",
          "text": [
            "/usr/local/lib/python3.7/dist-packages/seaborn/_decorators.py:43: FutureWarning: Pass the following variables as keyword args: x, y. From version 0.12, the only valid positional argument will be `data`, and passing other arguments without an explicit keyword will result in an error or misinterpretation.\n",
            "  FutureWarning\n"
          ]
        },
        {
          "output_type": "execute_result",
          "data": {
            "text/plain": [
              "<matplotlib.axes._subplots.AxesSubplot at 0x7fc3e16e4710>"
            ]
          },
          "metadata": {},
          "execution_count": 16
        },
        {
          "output_type": "display_data",
          "data": {
            "image/png": "[encoded data removed]",
            "text/plain": [
              "<Figure size 432x288 with 1 Axes>"
            ]
          },
          "metadata": {
            "needs_background": "light"
          }
        }
      ]
    },
    {
      "cell_type": "markdown",
      "metadata": {
        "id": "0xgqAlYj2dyb"
      },
      "source": [
        "*Analysis of **Rest ECG** Feature*"
      ]
    },
    {
      "cell_type": "code",
      "metadata": {
        "id": "02WumwOu2d7D",
        "colab": {
          "base_uri": "https://localhost:8080/",
          "height": 350
        },
        "outputId": "b7f3d5d1-545a-4c10-c921-ae0c1db02a1a"
      },
      "source": [
        "sns.barplot(data[\"restecg\"],y)"
      ],
      "execution_count": null,
      "outputs": [
        {
          "output_type": "stream",
          "name": "stderr",
          "text": [
            "/usr/local/lib/python3.7/dist-packages/seaborn/_decorators.py:43: FutureWarning: Pass the following variables as keyword args: x, y. From version 0.12, the only valid positional argument will be `data`, and passing other arguments without an explicit keyword will result in an error or misinterpretation.\n",
            "  FutureWarning\n"
          ]
        },
        {
          "output_type": "execute_result",
          "data": {
            "text/plain": [
              "<matplotlib.axes._subplots.AxesSubplot at 0x7fc3e167a6d0>"
            ]
          },
          "metadata": {},
          "execution_count": 17
        },
        {
          "output_type": "display_data",
          "data": {
            "image/png": "[encoded data removed]",
            "text/plain": [
              "<Figure size 432x288 with 1 Axes>"
            ]
          },
          "metadata": {
            "needs_background": "light"
          }
        }
      ]
    },
    {
      "cell_type": "markdown",
      "metadata": {
        "id": "JB7BtVfu2eKN"
      },
      "source": [
        "*Analysis of **Exercise Induced Anigna** Feature*"
      ]
    },
    {
      "cell_type": "code",
      "metadata": {
        "id": "RHeAKheB2eTW",
        "colab": {
          "base_uri": "https://localhost:8080/",
          "height": 350
        },
        "outputId": "f81f6101-56f5-4385-d3bc-52e0aebcdd40"
      },
      "source": [
        "sns.barplot(data[\"exang\"],y)"
      ],
      "execution_count": null,
      "outputs": [
        {
          "output_type": "stream",
          "name": "stderr",
          "text": [
            "/usr/local/lib/python3.7/dist-packages/seaborn/_decorators.py:43: FutureWarning: Pass the following variables as keyword args: x, y. From version 0.12, the only valid positional argument will be `data`, and passing other arguments without an explicit keyword will result in an error or misinterpretation.\n",
            "  FutureWarning\n"
          ]
        },
        {
          "output_type": "execute_result",
          "data": {
            "text/plain": [
              "<matplotlib.axes._subplots.AxesSubplot at 0x7fc3e15e6d90>"
            ]
          },
          "metadata": {},
          "execution_count": 18
        },
        {
          "output_type": "display_data",
          "data": {
            "image/png": "[encoded data removed]",
            "text/plain": [
              "<Figure size 432x288 with 1 Axes>"
            ]
          },
          "metadata": {
            "needs_background": "light"
          }
        }
      ]
    },
    {
      "cell_type": "markdown",
      "metadata": {
        "id": "7z_ufOLU3FZr"
      },
      "source": [
        "*Analysis of the **Slope** Feature*"
      ]
    },
    {
      "cell_type": "code",
      "metadata": {
        "id": "5QR8B0gO3Fl3",
        "colab": {
          "base_uri": "https://localhost:8080/",
          "height": 350
        },
        "outputId": "cc04be26-0838-4c5b-e0dd-3743516774f6"
      },
      "source": [
        "sns.barplot(data[\"slope\"],y)"
      ],
      "execution_count": null,
      "outputs": [
        {
          "output_type": "stream",
          "name": "stderr",
          "text": [
            "/usr/local/lib/python3.7/dist-packages/seaborn/_decorators.py:43: FutureWarning: Pass the following variables as keyword args: x, y. From version 0.12, the only valid positional argument will be `data`, and passing other arguments without an explicit keyword will result in an error or misinterpretation.\n",
            "  FutureWarning\n"
          ]
        },
        {
          "output_type": "execute_result",
          "data": {
            "text/plain": [
              "<matplotlib.axes._subplots.AxesSubplot at 0x7fc3e1553690>"
            ]
          },
          "metadata": {},
          "execution_count": 19
        },
        {
          "output_type": "display_data",
          "data": {
            "image/png": "[encoded data removed]",
            "text/plain": [
              "<Figure size 432x288 with 1 Axes>"
            ]
          },
          "metadata": {
            "needs_background": "light"
          }
        }
      ]
    },
    {
      "cell_type": "markdown",
      "metadata": {
        "id": "I3roVNBy3Fv3"
      },
      "source": [
        "*Analysis of **Coronary Artery** Feature*"
      ]
    },
    {
      "cell_type": "code",
      "metadata": {
        "id": "MnVEBMdA3F40",
        "colab": {
          "base_uri": "https://localhost:8080/",
          "height": 350
        },
        "outputId": "90367523-8e67-425b-f31f-c5740b4e0710"
      },
      "source": [
        "sns.barplot(data[\"ca\"],y)"
      ],
      "execution_count": null,
      "outputs": [
        {
          "output_type": "stream",
          "name": "stderr",
          "text": [
            "/usr/local/lib/python3.7/dist-packages/seaborn/_decorators.py:43: FutureWarning: Pass the following variables as keyword args: x, y. From version 0.12, the only valid positional argument will be `data`, and passing other arguments without an explicit keyword will result in an error or misinterpretation.\n",
            "  FutureWarning\n"
          ]
        },
        {
          "output_type": "execute_result",
          "data": {
            "text/plain": [
              "<matplotlib.axes._subplots.AxesSubplot at 0x7fc3e14c2e50>"
            ]
          },
          "metadata": {},
          "execution_count": 20
        },
        {
          "output_type": "display_data",
          "data": {
            "image/png": "[encoded data removed]",
            "text/plain": [
              "<Figure size 432x288 with 1 Axes>"
            ]
          },
          "metadata": {
            "needs_background": "light"
          }
        }
      ]
    },
    {
      "cell_type": "markdown",
      "metadata": {
        "id": "EpvGAdIL3igI"
      },
      "source": [
        "*Analysis of the **Thalassemia** Feature*"
      ]
    },
    {
      "cell_type": "code",
      "metadata": {
        "id": "JwSgvWrr3qpN",
        "colab": {
          "base_uri": "https://localhost:8080/",
          "height": 350
        },
        "outputId": "58aa6a58-155e-4a72-a498-1e8d5395ef70"
      },
      "source": [
        "sns.barplot(data[\"thal\"],y)"
      ],
      "execution_count": null,
      "outputs": [
        {
          "output_type": "stream",
          "name": "stderr",
          "text": [
            "/usr/local/lib/python3.7/dist-packages/seaborn/_decorators.py:43: FutureWarning: Pass the following variables as keyword args: x, y. From version 0.12, the only valid positional argument will be `data`, and passing other arguments without an explicit keyword will result in an error or misinterpretation.\n",
            "  FutureWarning\n"
          ]
        },
        {
          "output_type": "execute_result",
          "data": {
            "text/plain": [
              "<matplotlib.axes._subplots.AxesSubplot at 0x7fc3e1443590>"
            ]
          },
          "metadata": {},
          "execution_count": 21
        },
        {
          "output_type": "display_data",
          "data": {
            "image/png": "[encoded data removed]",
            "text/plain": [
              "<Figure size 432x288 with 1 Axes>"
            ]
          },
          "metadata": {
            "needs_background": "light"
          }
        }
      ]
    },
    {
      "cell_type": "markdown",
      "metadata": {
        "id": "Fk1YLnVPtvax"
      },
      "source": [
        "##### Data Labelling"
      ]
    },
    {
      "cell_type": "code",
      "metadata": {
        "id": "2rmSGJANtvay",
        "colab": {
          "base_uri": "https://localhost:8080/"
        },
        "outputId": "c75d0f0f-31c1-47da-c43a-f1f059a5ad89"
      },
      "source": [
        "info = [\"age\",\"1: male, 0: female\",\"chest pain type, 1: typical angina, 2: atypical angina, 3: non-anginal pain, 4: asymptomatic\",\"resting blood pressure\",\" serum cholestoral in mg/dl\",\"fasting blood sugar > 120 mg/dl\",\"resting electrocardiographic results (values 0,1,2)\",\" maximum heart rate achieved\",\"exercise induced angina\",\"oldpeak = ST depression induced by exercise relative to rest\",\"the slope of the peak exercise ST segment\",\"number of major vessels (0-3) colored by flourosopy\",\"thal: 3 = normal; 6 = fixed defect; 7 = reversable defect\"]\n",
        "\n",
        "\n",
        "\n",
        "for i in range(len(info)):\n",
        "    print(data.columns[i]+\":\\t\\t\\t\"+info[i])"
      ],
      "execution_count": null,
      "outputs": [
        {
          "output_type": "stream",
          "name": "stdout",
          "text": [
            "age:\t\t\tage\n",
            "sex:\t\t\t1: male, 0: female\n",
            "cp:\t\t\tchest pain type, 1: typical angina, 2: atypical angina, 3: non-anginal pain, 4: asymptomatic\n",
            "trestbps:\t\t\tresting blood pressure\n",
            "chol:\t\t\t serum cholestoral in mg/dl\n",
            "fbs:\t\t\tfasting blood sugar > 120 mg/dl\n",
            "restecg:\t\t\tresting electrocardiographic results (values 0,1,2)\n",
            "thalach:\t\t\t maximum heart rate achieved\n",
            "exang:\t\t\texercise induced angina\n",
            "oldpeak:\t\t\toldpeak = ST depression induced by exercise relative to rest\n",
            "slope:\t\t\tthe slope of the peak exercise ST segment\n",
            "ca:\t\t\tnumber of major vessels (0-3) colored by flourosopy\n",
            "thal:\t\t\tthal: 3 = normal; 6 = fixed defect; 7 = reversable defect\n"
          ]
        }
      ]
    },
    {
      "cell_type": "code",
      "metadata": {
        "id": "x4S7rHI8tva3",
        "colab": {
          "base_uri": "https://localhost:8080/"
        },
        "outputId": "6c4757f4-e1c6-45f2-c705-8b372ab25512"
      },
      "source": [
        "data[\"target\"].unique()"
      ],
      "execution_count": null,
      "outputs": [
        {
          "output_type": "execute_result",
          "data": {
            "text/plain": [
              "array([1, 0])"
            ]
          },
          "metadata": {},
          "execution_count": 23
        }
      ]
    },
    {
      "cell_type": "markdown",
      "metadata": {
        "id": "tf2UaS4ttva8"
      },
      "source": [
        "**STEP 4: Splitting the Data into Train and Test Set**"
      ]
    },
    {
      "cell_type": "code",
      "metadata": {
        "id": "jw_fMWCttva9"
      },
      "source": [
        "from sklearn.model_selection import train_test_split\n",
        "\n",
        "predictors = data.drop(\"target\",axis=1)\n",
        "target = data[\"target\"]\n",
        "\n",
        "X_train,X_test,Y_train,Y_test = train_test_split(predictors,target,test_size=0.20,random_state=0)"
      ],
      "execution_count": null,
      "outputs": []
    },
    {
      "cell_type": "code",
      "metadata": {
        "id": "KoLVrYrFtvbA",
        "colab": {
          "base_uri": "https://localhost:8080/"
        },
        "outputId": "df91280c-3395-4b1b-eece-c75d15f17117"
      },
      "source": [
        "print(X_train.shape)\n",
        "print(Y_train.shape)\n",
        "print(X_test.shape)\n",
        "print(Y_test.shape)"
      ],
      "execution_count": null,
      "outputs": [
        {
          "output_type": "stream",
          "name": "stdout",
          "text": [
            "(242, 13)\n",
            "(242,)\n",
            "(61, 13)\n",
            "(61,)\n"
          ]
        }
      ]
    },
    {
      "cell_type": "markdown",
      "metadata": {
        "id": "UgfdhDputvbC"
      },
      "source": [
        "**STEP 5: Feature Scaling**"
      ]
    },
    {
      "cell_type": "code",
      "metadata": {
        "id": "6gxC3KGdtvbD"
      },
      "source": [
        "from sklearn.preprocessing import StandardScaler\n",
        "sc = StandardScaler()\n",
        "X_train = sc.fit_transform(X_train)\n",
        "X_test = sc.transform(X_test)"
      ],
      "execution_count": null,
      "outputs": []
    },
    {
      "cell_type": "code",
      "metadata": {
        "id": "3cYPMWwztvbG",
        "colab": {
          "base_uri": "https://localhost:8080/"
        },
        "outputId": "1727af42-c593-4474-9bf3-b58d2bce55da"
      },
      "source": [
        "print(X_train)"
      ],
      "execution_count": null,
      "outputs": [
        {
          "output_type": "stream",
          "name": "stdout",
          "text": [
            "[[-1.32773282 -1.43641607  0.98584243 ... -0.66169316 -0.70710678\n",
            "  -0.46472917]\n",
            " [ 1.24903178 -1.43641607  0.98584243 ... -0.66169316  0.26516504\n",
            "  -0.46472917]\n",
            " [ 0.35276583  0.69617712  0.98584243 ...  0.95577901 -0.70710678\n",
            "  -0.46472917]\n",
            " ...\n",
            " [ 0.12869935  0.69617712  1.94013791 ... -0.66169316 -0.70710678\n",
            "   1.14190596]\n",
            " [-0.87959984  0.69617712  0.98584243 ...  0.95577901 -0.70710678\n",
            "  -0.46472917]\n",
            " [ 0.35276583  0.69617712  0.03154696 ... -0.66169316 -0.70710678\n",
            "  -0.46472917]]\n"
          ]
        }
      ]
    },
    {
      "cell_type": "code",
      "metadata": {
        "id": "5zmgbbLAtvbM",
        "colab": {
          "base_uri": "https://localhost:8080/"
        },
        "outputId": "f972aa9b-b35c-4520-a5b9-4e27df846de5"
      },
      "source": [
        "print(X_test)"
      ],
      "execution_count": null,
      "outputs": [
        {
          "output_type": "stream",
          "name": "stdout",
          "text": [
            "[[ 1.69716475  0.69617712 -0.92274852  0.77251645 -1.36354075 -0.41803981\n",
            "   0.90163913 -1.07375268  1.40984195  1.2900049  -2.27916533 -0.70710678\n",
            "   1.14190596]\n",
            " [ 1.02496529  0.69617712  1.94013791  2.23625729 -0.3703119  -0.41803981\n",
            "  -0.97936664  0.22375805 -0.70929937 -0.38883987 -0.66169316 -0.70710678\n",
            "   1.14190596]\n",
            " [ 0.46479907  0.69617712  1.94013791  2.23625729  0.7728383  -0.41803981\n",
            "  -0.97936664  0.39675948 -0.70929937 -0.72460883 -0.66169316 -0.70710678\n",
            "   1.14190596]\n",
            " [ 0.57683232  0.69617712 -0.92274852 -0.39847623  0.21063328 -0.41803981\n",
            "  -0.97936664 -0.38174696  1.40984195  1.45788938 -0.66169316  0.26516504\n",
            "   1.14190596]\n",
            " [ 0.8008988   0.69617712  0.98584243 -0.10572806 -0.29535123 -0.41803981\n",
            "   0.90163913 -0.16549517 -0.70929937  0.61846699 -0.66169316  2.20970869\n",
            "   1.14190596]\n",
            " [-0.7675666   0.69617712 -0.92274852 -0.45702586  0.51047596 -0.41803981\n",
            "  -0.97936664  0.69951198 -0.70929937 -0.47278211 -0.66169316 -0.70710678\n",
            "   1.14190596]\n",
            " [-1.66383254  0.69617712 -0.92274852 -1.27672073 -1.49472192 -0.41803981\n",
            "  -0.97936664 -1.54950661  1.40984195  0.78635147 -0.66169316 -0.70710678\n",
            "   1.14190596]\n",
            " [ 0.91293205  0.69617712 -0.92274852 -0.10572806  0.13567261 -0.41803981\n",
            "  -0.97936664 -0.12224481 -0.70929937  0.28269804 -0.66169316  0.26516504\n",
            "   1.14190596]\n",
            " [ 0.12869935 -1.43641607 -0.92274852  3.9927463   0.7728383   2.39211668\n",
            "  -0.97936664 -0.72774982  1.40984195  2.46519624 -2.27916533  1.23743687\n",
            "   1.14190596]\n",
            " [ 0.91293205  0.69617712 -0.92274852 -0.10572806  1.55992532  2.39211668\n",
            "  -0.97936664 -0.77100017  1.40984195  0.61846699  0.95577901  2.20970869\n",
            "   1.14190596]\n",
            " [ 0.24073259  0.69617712  0.98584243  1.06526461 -2.26306878  2.39211668\n",
            "   0.90163913  1.00226448 -0.70929937 -0.72460883  0.95577901  0.26516504\n",
            "   1.14190596]\n",
            " [-0.65553336 -1.43641607 -0.92274852 -0.10572806  0.41677512 -0.41803981\n",
            "   0.90163913  0.56976091 -0.70929937 -0.89249331  0.95577901 -0.70710678\n",
            "  -0.46472917]\n",
            " [ 1.13699853  0.69617712 -0.92274852  0.18702011  0.13567261 -0.41803981\n",
            "  -0.97936664 -0.98725196 -0.70929937  1.45788938 -0.66169316  0.26516504\n",
            "   1.14190596]\n",
            " [-0.65553336  0.69617712  0.03154696 -0.10572806  0.36055462 -0.41803981\n",
            "   0.90163913  0.91576377 -0.70929937 -0.38883987  0.95577901 -0.70710678\n",
            "  -0.46472917]\n",
            " [-0.54350011 -1.43641607  0.98584243 -0.69122439 -0.52023323 -0.41803981\n",
            "   0.90163913  0.35350912 -0.70929937  0.45058251 -0.66169316 -0.70710678\n",
            "  -0.46472917]\n",
            " [-0.43146687  0.69617712  0.98584243 -1.86221707 -0.46401273 -0.41803981\n",
            "   0.90163913 -0.29524624  1.40984195  0.11481356 -0.66169316 -0.70710678\n",
            "  -0.46472917]\n",
            " [-0.31943363  0.69617712 -0.92274852 -1.39382    -0.25787089  2.39211668\n",
            "   0.90163913 -0.12224481 -0.70929937 -0.80855107  0.95577901  2.20970869\n",
            "   1.14190596]\n",
            " [-0.7675666   0.69617712  0.98584243 -0.45702586  0.15441278  2.39211668\n",
            "   0.90163913  1.0887652  -0.70929937 -0.89249331  0.95577901  1.23743687\n",
            "  -0.46472917]\n",
            " [ 0.8008988   0.69617712 -0.92274852 -0.69122439  0.37929479 -0.41803981\n",
            "   0.90163913 -2.19826197  1.40984195  0.61846699 -0.66169316  1.23743687\n",
            "   1.14190596]\n",
            " [-1.43976606  0.69617712  0.98584243 -0.69122439 -0.12668972  2.39211668\n",
            "   0.90163913  1.91052199 -0.70929937 -0.2209554  -2.27916533 -0.70710678\n",
            "   1.14190596]\n",
            " [-1.43976606  0.69617712 -0.92274852  0.47976828 -0.38905206 -0.41803981\n",
            "   0.90163913  1.21851627 -0.70929937 -0.89249331  0.95577901 -0.70710678\n",
            "  -0.46472917]\n",
            " [-1.77586579  0.69617712 -0.92274852 -0.80832366 -0.52023323 -0.41803981\n",
            "   0.90163913 -0.42499731 -0.70929937  0.11481356 -0.66169316 -0.70710678\n",
            "   1.14190596]\n",
            " [ 0.8008988   0.69617712  0.03154696 -0.69122439  0.64165713 -0.41803981\n",
            "  -0.97936664 -2.02526054 -0.70929937  0.28269804 -0.66169316  0.26516504\n",
            "   1.14190596]\n",
            " [-0.09536714  0.69617712 -0.92274852 -1.27672073 -0.76385541 -0.41803981\n",
            "  -0.97936664 -1.80900875  1.40984195 -0.89249331 -0.66169316  0.26516504\n",
            "  -0.46472917]\n",
            " [-1.5517993   0.69617712  0.03154696 -1.27672073 -0.22039056 -0.41803981\n",
            "   0.90163913  0.13725733 -0.70929937 -0.89249331  0.95577901 -0.70710678\n",
            "  -0.46472917]\n",
            " [ 0.8008988  -1.43641607  0.98584243 -0.10572806  0.30433412 -0.41803981\n",
            "   0.90163913 -2.28476268 -0.70929937  0.11481356 -0.66169316  0.26516504\n",
            "   1.14190596]\n",
            " [-0.31943363  0.69617712 -0.92274852 -0.39847623 -0.6514144  -0.41803981\n",
            "   0.90163913  0.78601269 -0.70929937 -0.05307092  0.95577901  1.23743687\n",
            "   1.14190596]\n",
            " [-0.99163309  0.69617712 -0.92274852 -0.69122439  0.04197178 -0.41803981\n",
            "  -0.97936664 -0.25199588 -0.70929937 -0.2209554   0.95577901 -0.70710678\n",
            "   1.14190596]\n",
            " [-1.77586579 -1.43641607  0.98584243  0.36266901 -0.50149307 -0.41803981\n",
            "   0.90163913  0.09400698 -0.70929937 -0.89249331 -0.66169316 -0.70710678\n",
            "  -0.46472917]\n",
            " [-0.31943363  0.69617712  0.03154696  0.12847048 -0.85755624 -0.41803981\n",
            "   0.90163913  0.35350912 -0.70929937 -0.2209554   0.95577901  0.26516504\n",
            "  -0.46472917]\n",
            " [ 0.57683232  0.69617712  0.98584243  0.47976828 -1.15739892 -0.41803981\n",
            "  -0.97936664  0.22375805 -0.70929937  1.62577385 -0.66169316 -0.70710678\n",
            "  -0.46472917]\n",
            " [-1.10366633  0.69617712 -0.92274852  0.59686755  1.16638181 -0.41803981\n",
            "  -0.97936664 -0.12224481  1.40984195 -0.89249331 -0.66169316  2.20970869\n",
            "   1.14190596]\n",
            " [-1.5517993  -1.43641607  0.03154696 -0.33992659  1.11016131 -0.41803981\n",
            "   0.90163913  0.56976091 -0.70929937 -0.89249331  0.95577901 -0.70710678\n",
            "  -0.46472917]\n",
            " [-0.31943363  0.69617712  0.98584243  2.35335655 -0.89503658  2.39211668\n",
            "   0.90163913  0.52651055 -0.70929937 -0.47278211  0.95577901 -0.70710678\n",
            "   1.14190596]\n",
            " [-2.22399876  0.69617712  0.03154696 -0.57412513 -1.02621775 -0.41803981\n",
            "   0.90163913  1.04551484 -0.70929937 -0.89249331  0.95577901 -0.70710678\n",
            "  -0.46472917]\n",
            " [ 0.46479907 -1.43641607 -0.92274852  2.47045582  0.04197178 -0.41803981\n",
            "   0.90163913 -0.29524624  1.40984195 -0.89249331 -0.66169316 -0.70710678\n",
            "  -0.46472917]\n",
            " [ 1.69716475  0.69617712  0.98584243  1.65076095  0.41677512 -0.41803981\n",
            "   0.90163913 -1.63600732  1.40984195  1.54183161 -0.66169316  0.26516504\n",
            "   1.14190596]\n",
            " [-1.10366633  0.69617712  0.03154696 -0.22282732  1.14764164 -0.41803981\n",
            "  -0.97936664  0.87251341 -0.70929937 -0.89249331  0.95577901 -0.70710678\n",
            "  -0.46472917]\n",
            " [ 0.12869935  0.69617712 -0.92274852 -0.39847623  0.04197178  2.39211668\n",
            "  -0.97936664 -0.25199588  1.40984195  0.11481356 -0.66169316  0.26516504\n",
            "  -0.46472917]\n",
            " [ 0.8008988  -1.43641607 -0.92274852  0.47976828  0.39803495 -0.41803981\n",
            "  -0.97936664  0.44000983 -0.70929937  2.12942728 -2.27916533  1.23743687\n",
            "  -0.46472917]\n",
            " [ 0.24073259  0.69617712 -0.92274852  0.47976828 -1.02621775 -0.41803981\n",
            "   0.90163913 -0.07899445 -0.70929937 -0.55672435 -0.66169316 -0.70710678\n",
            "  -2.0713643 ]\n",
            " [ 0.24073259 -1.43641607 -0.92274852 -0.22282732  1.0539408  -0.41803981\n",
            "  -0.97936664  0.39675948 -0.70929937 -0.89249331  0.95577901  0.26516504\n",
            "  -0.46472917]\n",
            " [-0.31943363  0.69617712  0.98584243  0.36266901 -0.44527257 -0.41803981\n",
            "   0.90163913  0.82926305 -0.70929937 -0.89249331  0.95577901  3.18198052\n",
            "  -0.46472917]\n",
            " [-0.87959984  0.69617712 -0.92274852 -1.27672073  0.52921612 -0.41803981\n",
            "  -0.97936664 -1.37650518  1.40984195 -0.05307092 -0.66169316  0.26516504\n",
            "  -0.46472917]\n",
            " [-0.43146687  0.69617712  1.94013791 -0.39847623 -0.63267424 -0.41803981\n",
            "  -0.97936664 -1.07375268  1.40984195  0.28269804  0.95577901  0.26516504\n",
            "  -0.46472917]\n",
            " [ 1.69716475  0.69617712  0.03154696  1.41656242 -0.03298889 -0.41803981\n",
            "  -0.97936664 -0.29524624 -0.70929937 -0.89249331  0.95577901 -0.70710678\n",
            "  -0.46472917]\n",
            " [-1.5517993   0.69617712  0.98584243 -0.10572806 -0.61393407 -0.41803981\n",
            "  -0.97936664  0.78601269 -0.70929937  0.78635147 -0.66169316 -0.70710678\n",
            "  -0.46472917]\n",
            " [-0.54350011  0.69617712  0.98584243  0.47976828 -0.25787089 -0.41803981\n",
            "   0.90163913  0.56976091 -0.70929937 -0.38883987 -0.66169316  0.26516504\n",
            "   1.14190596]\n",
            " [ 0.12869935 -1.43641607 -0.92274852  0.12847048  3.04039852 -0.41803981\n",
            "  -0.97936664  0.00750626  1.40984195  0.70240923 -0.66169316  1.23743687\n",
            "   1.14190596]\n",
            " [-1.21569957  0.69617712  0.03154696 -0.69122439  0.30433412 -0.41803981\n",
            "   0.90163913  1.00226448 -0.70929937 -0.89249331  0.95577901 -0.70710678\n",
            "   1.14190596]\n",
            " [-0.31943363  0.69617712  0.03154696 -0.69122439  1.46622448 -0.41803981\n",
            "   0.90163913  0.95901412 -0.70929937 -0.72460883  0.95577901 -0.70710678\n",
            "  -0.46472917]\n",
            " [ 2.14529772 -1.43641607  0.03154696 -0.69122439  0.41677512 -0.41803981\n",
            "  -0.97936664 -1.24675411  1.40984195 -0.72460883  0.95577901  0.26516504\n",
            "  -0.46472917]\n",
            " [-1.5517993  -1.43641607  0.98584243 -1.15962146  0.39803495 -0.41803981\n",
            "  -0.97936664  0.95901412  1.40984195 -0.89249331  0.95577901 -0.70710678\n",
            "  -0.46472917]\n",
            " [-1.5517993   0.69617712  0.03154696  0.18702011 -0.82007591 -0.41803981\n",
            "   0.90163913 -0.77100017 -0.70929937 -0.89249331 -0.66169316 -0.70710678\n",
            "  -2.0713643 ]\n",
            " [-1.77586579 -1.43641607  0.98584243 -2.21351487 -0.89503658 -0.41803981\n",
            "   0.90163913  1.26176663 -0.70929937 -0.89249331  0.95577901 -0.70710678\n",
            "  -0.46472917]\n",
            " [-2.22399876  0.69617712 -0.92274852 -0.69122439 -0.91377674 -0.41803981\n",
            "   0.90163913 -0.85750089  1.40984195  0.45058251 -0.66169316 -0.70710678\n",
            "   1.14190596]\n",
            " [-1.21569957 -1.43641607  0.98584243 -0.80832366 -0.08920939 -0.41803981\n",
            "   0.90163913 -0.0357441  -0.70929937 -0.64066659 -0.66169316  0.26516504\n",
            "  -0.46472917]\n",
            " [ 0.24073259 -1.43641607  0.03154696 -0.10572806 -0.20165039 -0.41803981\n",
            "  -0.97936664  1.04551484 -0.70929937 -0.89249331 -0.66169316  0.26516504\n",
            "  -0.46472917]\n",
            " [ 0.46479907  0.69617712  0.98584243  1.06526461 -0.6514144   2.39211668\n",
            "   0.90163913  0.31025876 -0.70929937  0.45058251  0.95577901 -0.70710678\n",
            "  -0.46472917]\n",
            " [-0.54350011 -1.43641607  0.03154696 -0.69122439 -0.05172906 -0.41803981\n",
            "   0.90163913  0.52651055 -0.70929937  0.03087132  0.95577901 -0.70710678\n",
            "  -0.46472917]\n",
            " [ 0.35276583 -1.43641607 -0.92274852 -1.86221707  0.02323161 -0.41803981\n",
            "  -0.97936664 -1.20350375 -0.70929937 -0.05307092 -0.66169316 -0.70710678\n",
            "  -0.46472917]]\n"
          ]
        }
      ]
    },
    {
      "cell_type": "markdown",
      "metadata": {
        "id": "OO9ctyng4v28"
      },
      "source": [
        "**STEP 6: Model Fitting**"
      ]
    },
    {
      "cell_type": "markdown",
      "metadata": {
        "id": "ZZFJ5bPktvbQ"
      },
      "source": [
        "**1. Logistic Regression**"
      ]
    },
    {
      "cell_type": "code",
      "metadata": {
        "id": "FY6OEXZttvbQ"
      },
      "source": [
        "from sklearn.linear_model import LogisticRegression\n",
        "\n",
        "logreg = LogisticRegression()\n",
        "\n",
        "logreg.fit(X_train,Y_train)\n",
        "\n",
        "Y_pred_logreg = logreg.predict(X_test)"
      ],
      "execution_count": null,
      "outputs": []
    },
    {
      "cell_type": "markdown",
      "metadata": {
        "id": "FNUnD4iy6CbL"
      },
      "source": [
        "Predicting the Test Set Results"
      ]
    },
    {
      "cell_type": "code",
      "metadata": {
        "id": "zJh_5GE8tvbV",
        "colab": {
          "base_uri": "https://localhost:8080/"
        },
        "outputId": "1d089a16-1257-43d0-8fdf-5569ccdb91e6"
      },
      "source": [
        "from sklearn.metrics import confusion_matrix, accuracy_score\n",
        "\n",
        "logreg_score=accuracy_score(Y_test,Y_pred_logreg)*100\n",
        "logreg_cm=confusion_matrix(Y_test,Y_pred_logreg)\n",
        "print(\"The confusion matrix for Logistic regression is \\n\\n\"+str(logreg_cm))\n",
        "print(\"\\nThe accuracy of Logistic Regression is\\n\\n \"+str(logreg_score)+\" %\")"
      ],
      "execution_count": null,
      "outputs": [
        {
          "output_type": "stream",
          "name": "stdout",
          "text": [
            "The confusion matrix for Logistic regression is \n",
            "\n",
            "[[21  6]\n",
            " [ 3 31]]\n",
            "\n",
            "The accuracy of Logistic Regression is\n",
            "\n",
            " 85.24590163934425 %\n"
          ]
        }
      ]
    },
    {
      "cell_type": "markdown",
      "metadata": {
        "id": "KTGkeoJ1tvba"
      },
      "source": [
        "**2. SVM**"
      ]
    },
    {
      "cell_type": "code",
      "metadata": {
        "id": "2yxxHNhatvbb"
      },
      "source": [
        "from sklearn import svm\n",
        "\n",
        "sv = svm.SVC(kernel='linear')\n",
        "\n",
        "sv.fit(X_train, Y_train)\n",
        "Y_pred_svm = sv.predict(X_test)"
      ],
      "execution_count": null,
      "outputs": []
    },
    {
      "cell_type": "markdown",
      "metadata": {
        "id": "NfSynUiL6KDP"
      },
      "source": [
        "Predicting the Test Set Results"
      ]
    },
    {
      "cell_type": "code",
      "metadata": {
        "id": "ZWtqfl6Ntvbf",
        "colab": {
          "base_uri": "https://localhost:8080/"
        },
        "outputId": "ff2557fa-ba78-477c-f12d-11f1930057ee"
      },
      "source": [
        "svm_score=accuracy_score(Y_test,Y_pred_svm)*100\n",
        "svm_cm=confusion_matrix(Y_test,Y_pred_svm)\n",
        "print(\"The confusion matrix for Support Vector Machines is \\n\\n\"+str(svm_cm))\n",
        "print(\"\\nThe accuracy of Support Vector Machines is\\n\\n \"+str(svm_score)+\" %\")"
      ],
      "execution_count": null,
      "outputs": [
        {
          "output_type": "stream",
          "name": "stdout",
          "text": [
            "The confusion matrix for Support Vector Machines is \n",
            "\n",
            "[[20  7]\n",
            " [ 4 30]]\n",
            "\n",
            "The accuracy of Support Vector Machines is\n",
            "\n",
            " 81.9672131147541 %\n"
          ]
        }
      ]
    },
    {
      "cell_type": "markdown",
      "metadata": {
        "id": "aPfZYwUItvbj"
      },
      "source": [
        "**3. K Nearest Neighbours**"
      ]
    },
    {
      "cell_type": "code",
      "metadata": {
        "id": "bgw9weTgtvbk"
      },
      "source": [
        "from sklearn.neighbors import KNeighborsClassifier\n",
        "knn = KNeighborsClassifier(n_neighbors=3)\n",
        "knn.fit(X_train,Y_train)\n",
        "Y_pred_knn=knn.predict(X_test)\n"
      ],
      "execution_count": null,
      "outputs": []
    },
    {
      "cell_type": "markdown",
      "metadata": {
        "id": "lh44gOGI6L_Q"
      },
      "source": [
        "Predicting the Test Set Results"
      ]
    },
    {
      "cell_type": "code",
      "metadata": {
        "id": "9NAVreW_tvbo",
        "colab": {
          "base_uri": "https://localhost:8080/"
        },
        "outputId": "eaea1f40-5c8f-46d3-96b1-3f3e31022081"
      },
      "source": [
        "knn_score=accuracy_score(Y_test,Y_pred_knn)*100\n",
        "knn_cm=confusion_matrix(Y_test,Y_pred_knn)\n",
        "print(\"The confusion matrix of K Nearest Neighbour for N = 3 is\\n\\n\"+str(knn_cm))\n",
        "print(\"\\nThe accuracy of K Nearest Neighbour for N = 3 is \"+str(knn_score)+\" %\")"
      ],
      "execution_count": null,
      "outputs": [
        {
          "output_type": "stream",
          "name": "stdout",
          "text": [
            "The confusion matrix of K Nearest Neighbour for N = 3 is\n",
            "\n",
            "[[22  5]\n",
            " [ 5 29]]\n",
            "\n",
            "The accuracy of K Nearest Neighbour for N = 3 is 83.60655737704919 %\n"
          ]
        }
      ]
    },
    {
      "cell_type": "markdown",
      "metadata": {
        "id": "f9_-llUEtvbt"
      },
      "source": [
        "**4. Naive Bayes**"
      ]
    },
    {
      "cell_type": "code",
      "metadata": {
        "id": "WWTzS7LWtvbu"
      },
      "source": [
        "from sklearn.naive_bayes import GaussianNB\n",
        "nb = GaussianNB()\n",
        "nb.fit(X_train,Y_train)\n",
        "Y_pred_nb = nb.predict(X_test)"
      ],
      "execution_count": null,
      "outputs": []
    },
    {
      "cell_type": "markdown",
      "metadata": {
        "id": "HNIzsw9R6NXx"
      },
      "source": [
        "Predicting the Test Set Results"
      ]
    },
    {
      "cell_type": "code",
      "metadata": {
        "id": "LUSc_SKdtvby",
        "colab": {
          "base_uri": "https://localhost:8080/"
        },
        "outputId": "505742f8-8e36-4bfa-aa58-911c181408dd"
      },
      "source": [
        "nb_score=accuracy_score(Y_test,Y_pred_nb)*100\n",
        "nb_cm=confusion_matrix(Y_test,Y_pred_nb)\n",
        "print(\"The confusion matrix of Naive Bayes is\\n\\n\"+str(nb_cm))\n",
        "print(\"\\nThe accuracy of Naive Bayes is \"+str(nb_score)+\" %\")"
      ],
      "execution_count": null,
      "outputs": [
        {
          "output_type": "stream",
          "name": "stdout",
          "text": [
            "The confusion matrix of Naive Bayes is\n",
            "\n",
            "[[21  6]\n",
            " [ 3 31]]\n",
            "\n",
            "The accuracy of Naive Bayes is 85.24590163934425 %\n"
          ]
        }
      ]
    },
    {
      "cell_type": "markdown",
      "metadata": {
        "id": "-JkgXnR9tvb1"
      },
      "source": [
        "**5. Decision Trees**"
      ]
    },
    {
      "cell_type": "code",
      "metadata": {
        "id": "W0mLE82otvb2",
        "colab": {
          "base_uri": "https://localhost:8080/"
        },
        "outputId": "1c3ece36-15df-4d22-d560-74e69fa7af5d"
      },
      "source": [
        "from sklearn.tree import DecisionTreeClassifier\n",
        "\n",
        "max_accuracy = 0\n",
        "\n",
        "\n",
        "for x in range(10):\n",
        "    dt = DecisionTreeClassifier(random_state=x)\n",
        "    dt.fit(X_train,Y_train)\n",
        "    Y_pred_dt = dt.predict(X_test)\n",
        "    current_accuracy = round(accuracy_score(Y_pred_dt,Y_test)*100,2)\n",
        "    if(current_accuracy>max_accuracy):\n",
        "        max_accuracy = current_accuracy\n",
        "        best_x = x\n",
        "print(best_x)        \n",
        "dt = DecisionTreeClassifier(random_state=best_x)\n",
        "dt.fit(X_train,Y_train)\n",
        "Y_pred_dt = dt.predict(X_test)"
      ],
      "execution_count": null,
      "outputs": [
        {
          "output_type": "stream",
          "name": "stdout",
          "text": [
            "3\n"
          ]
        }
      ]
    },
    {
      "cell_type": "markdown",
      "metadata": {
        "id": "vc8Gy1ZD6PBW"
      },
      "source": [
        "Predicting the Test Set Results"
      ]
    },
    {
      "cell_type": "code",
      "metadata": {
        "id": "qWelGBdztvb7",
        "colab": {
          "base_uri": "https://localhost:8080/"
        },
        "outputId": "99f62fc7-7d25-40d7-a2b2-fc7ed3dcb267"
      },
      "source": [
        "dt_score=accuracy_score(Y_test,Y_pred_dt)*100\n",
        "dt_cm=confusion_matrix(Y_test,Y_pred_dt)\n",
        "print(\"The confusion matrix of Decision Trees is\\n\\n\"+str(dt_cm))\n",
        "print(\"\\nThe accuracy of Decision Trees is \"+str(dt_score)+\" %\")"
      ],
      "execution_count": null,
      "outputs": [
        {
          "output_type": "stream",
          "name": "stdout",
          "text": [
            "The confusion matrix of Decision Trees is\n",
            "\n",
            "[[22  5]\n",
            " [ 8 26]]\n",
            "\n",
            "The accuracy of Decision Trees is 78.68852459016394 %\n"
          ]
        }
      ]
    },
    {
      "cell_type": "markdown",
      "metadata": {
        "id": "ZObULp0stvcA"
      },
      "source": [
        "**6. Random Forest**"
      ]
    },
    {
      "cell_type": "code",
      "metadata": {
        "id": "0rJbTgjgtvcB",
        "colab": {
          "base_uri": "https://localhost:8080/"
        },
        "outputId": "4a3b2999-c47b-4a5d-c8dd-037af267c0e4"
      },
      "source": [
        "from sklearn.ensemble import RandomForestClassifier\n",
        "\n",
        "max_accuracy = 0\n",
        "\n",
        "\n",
        "for x in range(200):\n",
        "    rf = RandomForestClassifier(random_state=x)\n",
        "    rf.fit(X_train,Y_train)\n",
        "    Y_pred_rf = rf.predict(X_test)\n",
        "    current_accuracy = round(accuracy_score(Y_pred_rf,Y_test)*100,2)\n",
        "    if(current_accuracy>max_accuracy):\n",
        "        max_accuracy = current_accuracy\n",
        "        best_x = x\n",
        "    \n",
        "\n",
        "\n",
        "print(best_x)\n",
        "\n",
        "rf = RandomForestClassifier(random_state=best_x)\n",
        "rf.fit(X_train,Y_train)\n",
        "Y_pred_rf = rf.predict(X_test)"
      ],
      "execution_count": null,
      "outputs": [
        {
          "output_type": "stream",
          "name": "stdout",
          "text": [
            "9\n"
          ]
        }
      ]
    },
    {
      "cell_type": "markdown",
      "metadata": {
        "id": "44qCfzg06RO4"
      },
      "source": [
        "Predicting the Test Set Results"
      ]
    },
    {
      "cell_type": "code",
      "metadata": {
        "id": "cc9_Zt7WtvcF",
        "colab": {
          "base_uri": "https://localhost:8080/"
        },
        "outputId": "a3501fec-97cc-4bd4-e965-33e9fe184c78"
      },
      "source": [
        "rf_score=accuracy_score(Y_test,Y_pred_rf)*100\n",
        "rf_cm=confusion_matrix(Y_test,Y_pred_rf)\n",
        "print(\"The confusion matrix of Random Forest is\\n\\n\"+str(rf_cm))\n",
        "print(\"\\nThe accuracy of Random Forest is \"+str(rf_score)+\" %\")"
      ],
      "execution_count": null,
      "outputs": [
        {
          "output_type": "stream",
          "name": "stdout",
          "text": [
            "The confusion matrix of Random Forest is\n",
            "\n",
            "[[23  4]\n",
            " [ 3 31]]\n",
            "\n",
            "The accuracy of Random Forest is 88.52459016393442 %\n"
          ]
        }
      ]
    },
    {
      "cell_type": "markdown",
      "metadata": {
        "id": "qkZ2aJXptvcI"
      },
      "source": [
        "**7. Artificial Neural Network**"
      ]
    },
    {
      "cell_type": "markdown",
      "metadata": {
        "id": "fEY5jfn36VLu"
      },
      "source": [
        "Importing the Keras Libraries and Packages"
      ]
    },
    {
      "cell_type": "code",
      "metadata": {
        "id": "hUapd97ztvcJ"
      },
      "source": [
        "from keras.models import Sequential\n",
        "from keras.layers import Dense"
      ],
      "execution_count": null,
      "outputs": []
    },
    {
      "cell_type": "markdown",
      "metadata": {
        "id": "oWXwRGz46l7K"
      },
      "source": [
        "Initializing the ANN"
      ]
    },
    {
      "cell_type": "code",
      "metadata": {
        "id": "ZKQpfHJEtvcM"
      },
      "source": [
        "model = Sequential()"
      ],
      "execution_count": null,
      "outputs": []
    },
    {
      "cell_type": "markdown",
      "metadata": {
        "id": "ZOxVsA1x6pMr"
      },
      "source": [
        "Adding the Input Layer, the Hidden Layer and the Output Layer"
      ]
    },
    {
      "cell_type": "code",
      "metadata": {
        "id": "aHg2ZLTU6kXL"
      },
      "source": [
        "model.add(Dense(11,activation = 'relu',input_dim = 13))\n",
        "model.add(Dense(1,activation = 'sigmoid'))"
      ],
      "execution_count": null,
      "outputs": []
    },
    {
      "cell_type": "markdown",
      "metadata": {
        "id": "tcfcrEfX697Q"
      },
      "source": [
        "Compliling the ANN"
      ]
    },
    {
      "cell_type": "code",
      "metadata": {
        "id": "cCYLrXzh66gK"
      },
      "source": [
        "model.compile(loss='binary_crossentropy',optimizer='adam',metrics=['accuracy'])"
      ],
      "execution_count": null,
      "outputs": []
    },
    {
      "cell_type": "markdown",
      "metadata": {
        "id": "7QxAbi7n60Nc"
      },
      "source": [
        "Fitting the ANN to the Training Set"
      ]
    },
    {
      "cell_type": "code",
      "metadata": {
        "id": "YZjmsXt_tvcQ",
        "colab": {
          "base_uri": "https://localhost:8080/"
        },
        "outputId": "0fe1356a-d2b2-4516-dcb1-09bf2495af59"
      },
      "source": [
        "model.fit(X_train,Y_train,epochs=300)"
      ],
      "execution_count": null,
      "outputs": [
        {
          "output_type": "stream",
          "name": "stdout",
          "text": [
            "Epoch 1/300\n",
            "8/8 [==============================] - 1s 2ms/step - loss: 0.9232 - accuracy: 0.3678\n",
            "Epoch 2/300\n",
            "8/8 [==============================] - 0s 2ms/step - loss: 0.8831 - accuracy: 0.3843\n",
            "Epoch 3/300\n",
            "8/8 [==============================] - 0s 2ms/step - loss: 0.8482 - accuracy: 0.4008\n",
            "Epoch 4/300\n",
            "8/8 [==============================] - 0s 2ms/step - loss: 0.8170 - accuracy: 0.4339\n",
            "Epoch 5/300\n",
            "8/8 [==============================] - 0s 2ms/step - loss: 0.7864 - accuracy: 0.4711\n",
            "Epoch 6/300\n",
            "8/8 [==============================] - 0s 2ms/step - loss: 0.7593 - accuracy: 0.5124\n",
            "Epoch 7/300\n",
            "8/8 [==============================] - 0s 2ms/step - loss: 0.7347 - accuracy: 0.5620\n",
            "Epoch 8/300\n",
            "8/8 [==============================] - 0s 2ms/step - loss: 0.7137 - accuracy: 0.5868\n",
            "Epoch 9/300\n",
            "8/8 [==============================] - 0s 2ms/step - loss: 0.6922 - accuracy: 0.5992\n",
            "Epoch 10/300\n",
            "8/8 [==============================] - 0s 2ms/step - loss: 0.6729 - accuracy: 0.6281\n",
            "Epoch 11/300\n",
            "8/8 [==============================] - 0s 2ms/step - loss: 0.6561 - accuracy: 0.6488\n",
            "Epoch 12/300\n",
            "8/8 [==============================] - 0s 2ms/step - loss: 0.6388 - accuracy: 0.6777\n",
            "Epoch 13/300\n",
            "8/8 [==============================] - 0s 3ms/step - loss: 0.6233 - accuracy: 0.6942\n",
            "Epoch 14/300\n",
            "8/8 [==============================] - 0s 2ms/step - loss: 0.6092 - accuracy: 0.7149\n",
            "Epoch 15/300\n",
            "8/8 [==============================] - 0s 2ms/step - loss: 0.5959 - accuracy: 0.7149\n",
            "Epoch 16/300\n",
            "8/8 [==============================] - 0s 3ms/step - loss: 0.5828 - accuracy: 0.7190\n",
            "Epoch 17/300\n",
            "8/8 [==============================] - 0s 2ms/step - loss: 0.5706 - accuracy: 0.7273\n",
            "Epoch 18/300\n",
            "8/8 [==============================] - 0s 2ms/step - loss: 0.5597 - accuracy: 0.7314\n",
            "Epoch 19/300\n",
            "8/8 [==============================] - 0s 2ms/step - loss: 0.5491 - accuracy: 0.7355\n",
            "Epoch 20/300\n",
            "8/8 [==============================] - 0s 2ms/step - loss: 0.5395 - accuracy: 0.7355\n",
            "Epoch 21/300\n",
            "8/8 [==============================] - 0s 2ms/step - loss: 0.5301 - accuracy: 0.7397\n",
            "Epoch 22/300\n",
            "8/8 [==============================] - 0s 2ms/step - loss: 0.5208 - accuracy: 0.7521\n",
            "Epoch 23/300\n",
            "8/8 [==============================] - 0s 3ms/step - loss: 0.5125 - accuracy: 0.7645\n",
            "Epoch 24/300\n",
            "8/8 [==============================] - 0s 2ms/step - loss: 0.5051 - accuracy: 0.7645\n",
            "Epoch 25/300\n",
            "8/8 [==============================] - 0s 2ms/step - loss: 0.4972 - accuracy: 0.7686\n",
            "Epoch 26/300\n",
            "8/8 [==============================] - 0s 4ms/step - loss: 0.4900 - accuracy: 0.7769\n",
            "Epoch 27/300\n",
            "8/8 [==============================] - 0s 3ms/step - loss: 0.4835 - accuracy: 0.7851\n",
            "Epoch 28/300\n",
            "8/8 [==============================] - 0s 2ms/step - loss: 0.4771 - accuracy: 0.7934\n",
            "Epoch 29/300\n",
            "8/8 [==============================] - 0s 2ms/step - loss: 0.4709 - accuracy: 0.7975\n",
            "Epoch 30/300\n",
            "8/8 [==============================] - 0s 2ms/step - loss: 0.4652 - accuracy: 0.7975\n",
            "Epoch 31/300\n",
            "8/8 [==============================] - 0s 2ms/step - loss: 0.4598 - accuracy: 0.8058\n",
            "Epoch 32/300\n",
            "8/8 [==============================] - 0s 4ms/step - loss: 0.4542 - accuracy: 0.8140\n",
            "Epoch 33/300\n",
            "8/8 [==============================] - 0s 2ms/step - loss: 0.4489 - accuracy: 0.8182\n",
            "Epoch 34/300\n",
            "8/8 [==============================] - 0s 3ms/step - loss: 0.4441 - accuracy: 0.8182\n",
            "Epoch 35/300\n",
            "8/8 [==============================] - 0s 3ms/step - loss: 0.4394 - accuracy: 0.8182\n",
            "Epoch 36/300\n",
            "8/8 [==============================] - 0s 2ms/step - loss: 0.4349 - accuracy: 0.8182\n",
            "Epoch 37/300\n",
            "8/8 [==============================] - 0s 2ms/step - loss: 0.4305 - accuracy: 0.8182\n",
            "Epoch 38/300\n",
            "8/8 [==============================] - 0s 2ms/step - loss: 0.4264 - accuracy: 0.8140\n",
            "Epoch 39/300\n",
            "8/8 [==============================] - 0s 3ms/step - loss: 0.4225 - accuracy: 0.8099\n",
            "Epoch 40/300\n",
            "8/8 [==============================] - 0s 3ms/step - loss: 0.4187 - accuracy: 0.8099\n",
            "Epoch 41/300\n",
            "8/8 [==============================] - 0s 2ms/step - loss: 0.4150 - accuracy: 0.8099\n",
            "Epoch 42/300\n",
            "8/8 [==============================] - 0s 2ms/step - loss: 0.4114 - accuracy: 0.8182\n",
            "Epoch 43/300\n",
            "8/8 [==============================] - 0s 2ms/step - loss: 0.4079 - accuracy: 0.8182\n",
            "Epoch 44/300\n",
            "8/8 [==============================] - 0s 3ms/step - loss: 0.4045 - accuracy: 0.8223\n",
            "Epoch 45/300\n",
            "8/8 [==============================] - 0s 2ms/step - loss: 0.4012 - accuracy: 0.8223\n",
            "Epoch 46/300\n",
            "8/8 [==============================] - 0s 3ms/step - loss: 0.3980 - accuracy: 0.8223\n",
            "Epoch 47/300\n",
            "8/8 [==============================] - 0s 2ms/step - loss: 0.3952 - accuracy: 0.8223\n",
            "Epoch 48/300\n",
            "8/8 [==============================] - 0s 3ms/step - loss: 0.3919 - accuracy: 0.8223\n",
            "Epoch 49/300\n",
            "8/8 [==============================] - 0s 3ms/step - loss: 0.3892 - accuracy: 0.8306\n",
            "Epoch 50/300\n",
            "8/8 [==============================] - 0s 3ms/step - loss: 0.3864 - accuracy: 0.8306\n",
            "Epoch 51/300\n",
            "8/8 [==============================] - 0s 3ms/step - loss: 0.3835 - accuracy: 0.8306\n",
            "Epoch 52/300\n",
            "8/8 [==============================] - 0s 3ms/step - loss: 0.3809 - accuracy: 0.8306\n",
            "Epoch 53/300\n",
            "8/8 [==============================] - 0s 3ms/step - loss: 0.3782 - accuracy: 0.8388\n",
            "Epoch 54/300\n",
            "8/8 [==============================] - 0s 3ms/step - loss: 0.3760 - accuracy: 0.8388\n",
            "Epoch 55/300\n",
            "8/8 [==============================] - 0s 3ms/step - loss: 0.3735 - accuracy: 0.8388\n",
            "Epoch 56/300\n",
            "8/8 [==============================] - 0s 2ms/step - loss: 0.3712 - accuracy: 0.8388\n",
            "Epoch 57/300\n",
            "8/8 [==============================] - 0s 3ms/step - loss: 0.3689 - accuracy: 0.8388\n",
            "Epoch 58/300\n",
            "8/8 [==============================] - 0s 3ms/step - loss: 0.3670 - accuracy: 0.8430\n",
            "Epoch 59/300\n",
            "8/8 [==============================] - 0s 2ms/step - loss: 0.3646 - accuracy: 0.8471\n",
            "Epoch 60/300\n",
            "8/8 [==============================] - 0s 2ms/step - loss: 0.3626 - accuracy: 0.8471\n",
            "Epoch 61/300\n",
            "8/8 [==============================] - 0s 2ms/step - loss: 0.3606 - accuracy: 0.8471\n",
            "Epoch 62/300\n",
            "8/8 [==============================] - 0s 2ms/step - loss: 0.3587 - accuracy: 0.8512\n",
            "Epoch 63/300\n",
            "8/8 [==============================] - 0s 3ms/step - loss: 0.3567 - accuracy: 0.8554\n",
            "Epoch 64/300\n",
            "8/8 [==============================] - 0s 3ms/step - loss: 0.3548 - accuracy: 0.8554\n",
            "Epoch 65/300\n",
            "8/8 [==============================] - 0s 3ms/step - loss: 0.3532 - accuracy: 0.8554\n",
            "Epoch 66/300\n",
            "8/8 [==============================] - 0s 2ms/step - loss: 0.3514 - accuracy: 0.8554\n",
            "Epoch 67/300\n",
            "8/8 [==============================] - 0s 3ms/step - loss: 0.3497 - accuracy: 0.8554\n",
            "Epoch 68/300\n",
            "8/8 [==============================] - 0s 3ms/step - loss: 0.3480 - accuracy: 0.8554\n",
            "Epoch 69/300\n",
            "8/8 [==============================] - 0s 2ms/step - loss: 0.3465 - accuracy: 0.8554\n",
            "Epoch 70/300\n",
            "8/8 [==============================] - 0s 3ms/step - loss: 0.3449 - accuracy: 0.8554\n",
            "Epoch 71/300\n",
            "8/8 [==============================] - 0s 3ms/step - loss: 0.3437 - accuracy: 0.8554\n",
            "Epoch 72/300\n",
            "8/8 [==============================] - 0s 2ms/step - loss: 0.3422 - accuracy: 0.8554\n",
            "Epoch 73/300\n",
            "8/8 [==============================] - 0s 2ms/step - loss: 0.3407 - accuracy: 0.8554\n",
            "Epoch 74/300\n",
            "8/8 [==============================] - 0s 2ms/step - loss: 0.3393 - accuracy: 0.8554\n",
            "Epoch 75/300\n",
            "8/8 [==============================] - 0s 2ms/step - loss: 0.3381 - accuracy: 0.8554\n",
            "Epoch 76/300\n",
            "8/8 [==============================] - 0s 2ms/step - loss: 0.3367 - accuracy: 0.8554\n",
            "Epoch 77/300\n",
            "8/8 [==============================] - 0s 2ms/step - loss: 0.3356 - accuracy: 0.8554\n",
            "Epoch 78/300\n",
            "8/8 [==============================] - 0s 2ms/step - loss: 0.3342 - accuracy: 0.8554\n",
            "Epoch 79/300\n",
            "8/8 [==============================] - 0s 2ms/step - loss: 0.3332 - accuracy: 0.8595\n",
            "Epoch 80/300\n",
            "8/8 [==============================] - 0s 2ms/step - loss: 0.3320 - accuracy: 0.8595\n",
            "Epoch 81/300\n",
            "8/8 [==============================] - 0s 2ms/step - loss: 0.3308 - accuracy: 0.8595\n",
            "Epoch 82/300\n",
            "8/8 [==============================] - 0s 2ms/step - loss: 0.3298 - accuracy: 0.8595\n",
            "Epoch 83/300\n",
            "8/8 [==============================] - 0s 3ms/step - loss: 0.3286 - accuracy: 0.8636\n",
            "Epoch 84/300\n",
            "8/8 [==============================] - 0s 2ms/step - loss: 0.3275 - accuracy: 0.8678\n",
            "Epoch 85/300\n",
            "8/8 [==============================] - 0s 2ms/step - loss: 0.3266 - accuracy: 0.8678\n",
            "Epoch 86/300\n",
            "8/8 [==============================] - 0s 3ms/step - loss: 0.3255 - accuracy: 0.8678\n",
            "Epoch 87/300\n",
            "8/8 [==============================] - 0s 3ms/step - loss: 0.3247 - accuracy: 0.8678\n",
            "Epoch 88/300\n",
            "8/8 [==============================] - 0s 2ms/step - loss: 0.3235 - accuracy: 0.8678\n",
            "Epoch 89/300\n",
            "8/8 [==============================] - 0s 2ms/step - loss: 0.3227 - accuracy: 0.8678\n",
            "Epoch 90/300\n",
            "8/8 [==============================] - 0s 3ms/step - loss: 0.3218 - accuracy: 0.8678\n",
            "Epoch 91/300\n",
            "8/8 [==============================] - 0s 3ms/step - loss: 0.3209 - accuracy: 0.8678\n",
            "Epoch 92/300\n",
            "8/8 [==============================] - 0s 2ms/step - loss: 0.3200 - accuracy: 0.8678\n",
            "Epoch 93/300\n",
            "8/8 [==============================] - 0s 2ms/step - loss: 0.3192 - accuracy: 0.8678\n",
            "Epoch 94/300\n",
            "8/8 [==============================] - 0s 2ms/step - loss: 0.3184 - accuracy: 0.8719\n",
            "Epoch 95/300\n",
            "8/8 [==============================] - 0s 2ms/step - loss: 0.3175 - accuracy: 0.8719\n",
            "Epoch 96/300\n",
            "8/8 [==============================] - 0s 2ms/step - loss: 0.3168 - accuracy: 0.8678\n",
            "Epoch 97/300\n",
            "8/8 [==============================] - 0s 3ms/step - loss: 0.3158 - accuracy: 0.8678\n",
            "Epoch 98/300\n",
            "8/8 [==============================] - 0s 3ms/step - loss: 0.3151 - accuracy: 0.8678\n",
            "Epoch 99/300\n",
            "8/8 [==============================] - 0s 3ms/step - loss: 0.3144 - accuracy: 0.8678\n",
            "Epoch 100/300\n",
            "8/8 [==============================] - 0s 4ms/step - loss: 0.3137 - accuracy: 0.8678\n",
            "Epoch 101/300\n",
            "8/8 [==============================] - 0s 3ms/step - loss: 0.3129 - accuracy: 0.8678\n",
            "Epoch 102/300\n",
            "8/8 [==============================] - 0s 2ms/step - loss: 0.3122 - accuracy: 0.8719\n",
            "Epoch 103/300\n",
            "8/8 [==============================] - 0s 3ms/step - loss: 0.3115 - accuracy: 0.8719\n",
            "Epoch 104/300\n",
            "8/8 [==============================] - 0s 3ms/step - loss: 0.3108 - accuracy: 0.8719\n",
            "Epoch 105/300\n",
            "8/8 [==============================] - 0s 3ms/step - loss: 0.3102 - accuracy: 0.8719\n",
            "Epoch 106/300\n",
            "8/8 [==============================] - 0s 2ms/step - loss: 0.3096 - accuracy: 0.8760\n",
            "Epoch 107/300\n",
            "8/8 [==============================] - 0s 2ms/step - loss: 0.3090 - accuracy: 0.8802\n",
            "Epoch 108/300\n",
            "8/8 [==============================] - 0s 3ms/step - loss: 0.3083 - accuracy: 0.8843\n",
            "Epoch 109/300\n",
            "8/8 [==============================] - 0s 2ms/step - loss: 0.3077 - accuracy: 0.8843\n",
            "Epoch 110/300\n",
            "8/8 [==============================] - 0s 3ms/step - loss: 0.3071 - accuracy: 0.8843\n",
            "Epoch 111/300\n",
            "8/8 [==============================] - 0s 2ms/step - loss: 0.3067 - accuracy: 0.8843\n",
            "Epoch 112/300\n",
            "8/8 [==============================] - 0s 2ms/step - loss: 0.3059 - accuracy: 0.8843\n",
            "Epoch 113/300\n",
            "8/8 [==============================] - 0s 2ms/step - loss: 0.3054 - accuracy: 0.8843\n",
            "Epoch 114/300\n",
            "8/8 [==============================] - 0s 2ms/step - loss: 0.3047 - accuracy: 0.8843\n",
            "Epoch 115/300\n",
            "8/8 [==============================] - 0s 3ms/step - loss: 0.3042 - accuracy: 0.8843\n",
            "Epoch 116/300\n",
            "8/8 [==============================] - 0s 3ms/step - loss: 0.3037 - accuracy: 0.8843\n",
            "Epoch 117/300\n",
            "8/8 [==============================] - 0s 2ms/step - loss: 0.3030 - accuracy: 0.8843\n",
            "Epoch 118/300\n",
            "8/8 [==============================] - 0s 2ms/step - loss: 0.3024 - accuracy: 0.8843\n",
            "Epoch 119/300\n",
            "8/8 [==============================] - 0s 3ms/step - loss: 0.3021 - accuracy: 0.8843\n",
            "Epoch 120/300\n",
            "8/8 [==============================] - 0s 3ms/step - loss: 0.3013 - accuracy: 0.8843\n",
            "Epoch 121/300\n",
            "8/8 [==============================] - 0s 2ms/step - loss: 0.3008 - accuracy: 0.8843\n",
            "Epoch 122/300\n",
            "8/8 [==============================] - 0s 2ms/step - loss: 0.3004 - accuracy: 0.8843\n",
            "Epoch 123/300\n",
            "8/8 [==============================] - 0s 2ms/step - loss: 0.2998 - accuracy: 0.8843\n",
            "Epoch 124/300\n",
            "8/8 [==============================] - 0s 3ms/step - loss: 0.2992 - accuracy: 0.8843\n",
            "Epoch 125/300\n",
            "8/8 [==============================] - 0s 3ms/step - loss: 0.2987 - accuracy: 0.8843\n",
            "Epoch 126/300\n",
            "8/8 [==============================] - 0s 2ms/step - loss: 0.2982 - accuracy: 0.8843\n",
            "Epoch 127/300\n",
            "8/8 [==============================] - 0s 3ms/step - loss: 0.2977 - accuracy: 0.8843\n",
            "Epoch 128/300\n",
            "8/8 [==============================] - 0s 2ms/step - loss: 0.2972 - accuracy: 0.8843\n",
            "Epoch 129/300\n",
            "8/8 [==============================] - 0s 2ms/step - loss: 0.2967 - accuracy: 0.8843\n",
            "Epoch 130/300\n",
            "8/8 [==============================] - 0s 2ms/step - loss: 0.2963 - accuracy: 0.8843\n",
            "Epoch 131/300\n",
            "8/8 [==============================] - 0s 3ms/step - loss: 0.2956 - accuracy: 0.8843\n",
            "Epoch 132/300\n",
            "8/8 [==============================] - 0s 2ms/step - loss: 0.2953 - accuracy: 0.8843\n",
            "Epoch 133/300\n",
            "8/8 [==============================] - 0s 2ms/step - loss: 0.2945 - accuracy: 0.8843\n",
            "Epoch 134/300\n",
            "8/8 [==============================] - 0s 3ms/step - loss: 0.2941 - accuracy: 0.8843\n",
            "Epoch 135/300\n",
            "8/8 [==============================] - 0s 3ms/step - loss: 0.2936 - accuracy: 0.8843\n",
            "Epoch 136/300\n",
            "8/8 [==============================] - 0s 3ms/step - loss: 0.2931 - accuracy: 0.8884\n",
            "Epoch 137/300\n",
            "8/8 [==============================] - 0s 2ms/step - loss: 0.2926 - accuracy: 0.8884\n",
            "Epoch 138/300\n",
            "8/8 [==============================] - 0s 2ms/step - loss: 0.2921 - accuracy: 0.8884\n",
            "Epoch 139/300\n",
            "8/8 [==============================] - 0s 3ms/step - loss: 0.2917 - accuracy: 0.8884\n",
            "Epoch 140/300\n",
            "8/8 [==============================] - 0s 3ms/step - loss: 0.2914 - accuracy: 0.8843\n",
            "Epoch 141/300\n",
            "8/8 [==============================] - 0s 2ms/step - loss: 0.2907 - accuracy: 0.8843\n",
            "Epoch 142/300\n",
            "8/8 [==============================] - 0s 4ms/step - loss: 0.2902 - accuracy: 0.8843\n",
            "Epoch 143/300\n",
            "8/8 [==============================] - 0s 2ms/step - loss: 0.2897 - accuracy: 0.8843\n",
            "Epoch 144/300\n",
            "8/8 [==============================] - 0s 2ms/step - loss: 0.2894 - accuracy: 0.8843\n",
            "Epoch 145/300\n",
            "8/8 [==============================] - 0s 3ms/step - loss: 0.2888 - accuracy: 0.8843\n",
            "Epoch 146/300\n",
            "8/8 [==============================] - 0s 2ms/step - loss: 0.2884 - accuracy: 0.8843\n",
            "Epoch 147/300\n",
            "8/8 [==============================] - 0s 3ms/step - loss: 0.2879 - accuracy: 0.8884\n",
            "Epoch 148/300\n",
            "8/8 [==============================] - 0s 3ms/step - loss: 0.2874 - accuracy: 0.8884\n",
            "Epoch 149/300\n",
            "8/8 [==============================] - 0s 2ms/step - loss: 0.2870 - accuracy: 0.8884\n",
            "Epoch 150/300\n",
            "8/8 [==============================] - 0s 2ms/step - loss: 0.2865 - accuracy: 0.8884\n",
            "Epoch 151/300\n",
            "8/8 [==============================] - 0s 3ms/step - loss: 0.2860 - accuracy: 0.8884\n",
            "Epoch 152/300\n",
            "8/8 [==============================] - 0s 3ms/step - loss: 0.2855 - accuracy: 0.8884\n",
            "Epoch 153/300\n",
            "8/8 [==============================] - 0s 3ms/step - loss: 0.2850 - accuracy: 0.8926\n",
            "Epoch 154/300\n",
            "8/8 [==============================] - 0s 2ms/step - loss: 0.2846 - accuracy: 0.8884\n",
            "Epoch 155/300\n",
            "8/8 [==============================] - 0s 2ms/step - loss: 0.2841 - accuracy: 0.8884\n",
            "Epoch 156/300\n",
            "8/8 [==============================] - 0s 3ms/step - loss: 0.2837 - accuracy: 0.8884\n",
            "Epoch 157/300\n",
            "8/8 [==============================] - 0s 2ms/step - loss: 0.2832 - accuracy: 0.8926\n",
            "Epoch 158/300\n",
            "8/8 [==============================] - 0s 2ms/step - loss: 0.2827 - accuracy: 0.8926\n",
            "Epoch 159/300\n",
            "8/8 [==============================] - 0s 3ms/step - loss: 0.2824 - accuracy: 0.8926\n",
            "Epoch 160/300\n",
            "8/8 [==============================] - 0s 3ms/step - loss: 0.2821 - accuracy: 0.8926\n",
            "Epoch 161/300\n",
            "8/8 [==============================] - 0s 5ms/step - loss: 0.2814 - accuracy: 0.8926\n",
            "Epoch 162/300\n",
            "8/8 [==============================] - 0s 2ms/step - loss: 0.2812 - accuracy: 0.8884\n",
            "Epoch 163/300\n",
            "8/8 [==============================] - 0s 3ms/step - loss: 0.2805 - accuracy: 0.8926\n",
            "Epoch 164/300\n",
            "8/8 [==============================] - 0s 2ms/step - loss: 0.2799 - accuracy: 0.8926\n",
            "Epoch 165/300\n",
            "8/8 [==============================] - 0s 3ms/step - loss: 0.2796 - accuracy: 0.8926\n",
            "Epoch 166/300\n",
            "8/8 [==============================] - 0s 2ms/step - loss: 0.2791 - accuracy: 0.8967\n",
            "Epoch 167/300\n",
            "8/8 [==============================] - 0s 3ms/step - loss: 0.2787 - accuracy: 0.8967\n",
            "Epoch 168/300\n",
            "8/8 [==============================] - 0s 2ms/step - loss: 0.2782 - accuracy: 0.8967\n",
            "Epoch 169/300\n",
            "8/8 [==============================] - 0s 2ms/step - loss: 0.2779 - accuracy: 0.8926\n",
            "Epoch 170/300\n",
            "8/8 [==============================] - 0s 3ms/step - loss: 0.2774 - accuracy: 0.8926\n",
            "Epoch 171/300\n",
            "8/8 [==============================] - 0s 3ms/step - loss: 0.2768 - accuracy: 0.8926\n",
            "Epoch 172/300\n",
            "8/8 [==============================] - 0s 2ms/step - loss: 0.2764 - accuracy: 0.8926\n",
            "Epoch 173/300\n",
            "8/8 [==============================] - 0s 2ms/step - loss: 0.2759 - accuracy: 0.8967\n",
            "Epoch 174/300\n",
            "8/8 [==============================] - 0s 3ms/step - loss: 0.2755 - accuracy: 0.8967\n",
            "Epoch 175/300\n",
            "8/8 [==============================] - 0s 3ms/step - loss: 0.2749 - accuracy: 0.8967\n",
            "Epoch 176/300\n",
            "8/8 [==============================] - 0s 3ms/step - loss: 0.2748 - accuracy: 0.8926\n",
            "Epoch 177/300\n",
            "8/8 [==============================] - 0s 3ms/step - loss: 0.2743 - accuracy: 0.8926\n",
            "Epoch 178/300\n",
            "8/8 [==============================] - 0s 2ms/step - loss: 0.2737 - accuracy: 0.8926\n",
            "Epoch 179/300\n",
            "8/8 [==============================] - 0s 3ms/step - loss: 0.2734 - accuracy: 0.8926\n",
            "Epoch 180/300\n",
            "8/8 [==============================] - 0s 3ms/step - loss: 0.2729 - accuracy: 0.8926\n",
            "Epoch 181/300\n",
            "8/8 [==============================] - 0s 3ms/step - loss: 0.2724 - accuracy: 0.8926\n",
            "Epoch 182/300\n",
            "8/8 [==============================] - 0s 3ms/step - loss: 0.2720 - accuracy: 0.8967\n",
            "Epoch 183/300\n",
            "8/8 [==============================] - 0s 3ms/step - loss: 0.2716 - accuracy: 0.8967\n",
            "Epoch 184/300\n",
            "8/8 [==============================] - 0s 2ms/step - loss: 0.2710 - accuracy: 0.8967\n",
            "Epoch 185/300\n",
            "8/8 [==============================] - 0s 3ms/step - loss: 0.2709 - accuracy: 0.8967\n",
            "Epoch 186/300\n",
            "8/8 [==============================] - 0s 3ms/step - loss: 0.2703 - accuracy: 0.8926\n",
            "Epoch 187/300\n",
            "8/8 [==============================] - 0s 2ms/step - loss: 0.2699 - accuracy: 0.8967\n",
            "Epoch 188/300\n",
            "8/8 [==============================] - 0s 3ms/step - loss: 0.2695 - accuracy: 0.8967\n",
            "Epoch 189/300\n",
            "8/8 [==============================] - 0s 2ms/step - loss: 0.2691 - accuracy: 0.8967\n",
            "Epoch 190/300\n",
            "8/8 [==============================] - 0s 3ms/step - loss: 0.2687 - accuracy: 0.8967\n",
            "Epoch 191/300\n",
            "8/8 [==============================] - 0s 3ms/step - loss: 0.2683 - accuracy: 0.8967\n",
            "Epoch 192/300\n",
            "8/8 [==============================] - 0s 3ms/step - loss: 0.2678 - accuracy: 0.9008\n",
            "Epoch 193/300\n",
            "8/8 [==============================] - 0s 3ms/step - loss: 0.2673 - accuracy: 0.9008\n",
            "Epoch 194/300\n",
            "8/8 [==============================] - 0s 2ms/step - loss: 0.2670 - accuracy: 0.9008\n",
            "Epoch 195/300\n",
            "8/8 [==============================] - 0s 3ms/step - loss: 0.2666 - accuracy: 0.9008\n",
            "Epoch 196/300\n",
            "8/8 [==============================] - 0s 3ms/step - loss: 0.2662 - accuracy: 0.9008\n",
            "Epoch 197/300\n",
            "8/8 [==============================] - 0s 3ms/step - loss: 0.2658 - accuracy: 0.9008\n",
            "Epoch 198/300\n",
            "8/8 [==============================] - 0s 2ms/step - loss: 0.2653 - accuracy: 0.9008\n",
            "Epoch 199/300\n",
            "8/8 [==============================] - 0s 2ms/step - loss: 0.2652 - accuracy: 0.9008\n",
            "Epoch 200/300\n",
            "8/8 [==============================] - 0s 2ms/step - loss: 0.2645 - accuracy: 0.9008\n",
            "Epoch 201/300\n",
            "8/8 [==============================] - 0s 3ms/step - loss: 0.2641 - accuracy: 0.9008\n",
            "Epoch 202/300\n",
            "8/8 [==============================] - 0s 2ms/step - loss: 0.2637 - accuracy: 0.9008\n",
            "Epoch 203/300\n",
            "8/8 [==============================] - 0s 3ms/step - loss: 0.2633 - accuracy: 0.9008\n",
            "Epoch 204/300\n",
            "8/8 [==============================] - 0s 2ms/step - loss: 0.2629 - accuracy: 0.9008\n",
            "Epoch 205/300\n",
            "8/8 [==============================] - 0s 3ms/step - loss: 0.2626 - accuracy: 0.9008\n",
            "Epoch 206/300\n",
            "8/8 [==============================] - 0s 3ms/step - loss: 0.2622 - accuracy: 0.9008\n",
            "Epoch 207/300\n",
            "8/8 [==============================] - 0s 2ms/step - loss: 0.2618 - accuracy: 0.9008\n",
            "Epoch 208/300\n",
            "8/8 [==============================] - 0s 3ms/step - loss: 0.2613 - accuracy: 0.9008\n",
            "Epoch 209/300\n",
            "8/8 [==============================] - 0s 3ms/step - loss: 0.2610 - accuracy: 0.9008\n",
            "Epoch 210/300\n",
            "8/8 [==============================] - 0s 2ms/step - loss: 0.2606 - accuracy: 0.9050\n",
            "Epoch 211/300\n",
            "8/8 [==============================] - 0s 3ms/step - loss: 0.2604 - accuracy: 0.9008\n",
            "Epoch 212/300\n",
            "8/8 [==============================] - 0s 2ms/step - loss: 0.2597 - accuracy: 0.9008\n",
            "Epoch 213/300\n",
            "8/8 [==============================] - 0s 3ms/step - loss: 0.2594 - accuracy: 0.9008\n",
            "Epoch 214/300\n",
            "8/8 [==============================] - 0s 3ms/step - loss: 0.2589 - accuracy: 0.9008\n",
            "Epoch 215/300\n",
            "8/8 [==============================] - 0s 4ms/step - loss: 0.2586 - accuracy: 0.9008\n",
            "Epoch 216/300\n",
            "8/8 [==============================] - 0s 2ms/step - loss: 0.2583 - accuracy: 0.9050\n",
            "Epoch 217/300\n",
            "8/8 [==============================] - 0s 3ms/step - loss: 0.2578 - accuracy: 0.9008\n",
            "Epoch 218/300\n",
            "8/8 [==============================] - 0s 2ms/step - loss: 0.2573 - accuracy: 0.9008\n",
            "Epoch 219/300\n",
            "8/8 [==============================] - 0s 2ms/step - loss: 0.2570 - accuracy: 0.9050\n",
            "Epoch 220/300\n",
            "8/8 [==============================] - 0s 2ms/step - loss: 0.2567 - accuracy: 0.9050\n",
            "Epoch 221/300\n",
            "8/8 [==============================] - 0s 2ms/step - loss: 0.2563 - accuracy: 0.9091\n",
            "Epoch 222/300\n",
            "8/8 [==============================] - 0s 2ms/step - loss: 0.2558 - accuracy: 0.9050\n",
            "Epoch 223/300\n",
            "8/8 [==============================] - 0s 2ms/step - loss: 0.2551 - accuracy: 0.9050\n",
            "Epoch 224/300\n",
            "8/8 [==============================] - 0s 2ms/step - loss: 0.2550 - accuracy: 0.9091\n",
            "Epoch 225/300\n",
            "8/8 [==============================] - 0s 2ms/step - loss: 0.2546 - accuracy: 0.9091\n",
            "Epoch 226/300\n",
            "8/8 [==============================] - 0s 4ms/step - loss: 0.2540 - accuracy: 0.9091\n",
            "Epoch 227/300\n",
            "8/8 [==============================] - 0s 3ms/step - loss: 0.2536 - accuracy: 0.9091\n",
            "Epoch 228/300\n",
            "8/8 [==============================] - 0s 3ms/step - loss: 0.2533 - accuracy: 0.9091\n",
            "Epoch 229/300\n",
            "8/8 [==============================] - 0s 2ms/step - loss: 0.2530 - accuracy: 0.9091\n",
            "Epoch 230/300\n",
            "8/8 [==============================] - 0s 2ms/step - loss: 0.2524 - accuracy: 0.9091\n",
            "Epoch 231/300\n",
            "8/8 [==============================] - 0s 2ms/step - loss: 0.2520 - accuracy: 0.9091\n",
            "Epoch 232/300\n",
            "8/8 [==============================] - 0s 3ms/step - loss: 0.2517 - accuracy: 0.9091\n",
            "Epoch 233/300\n",
            "8/8 [==============================] - 0s 2ms/step - loss: 0.2512 - accuracy: 0.9091\n",
            "Epoch 234/300\n",
            "8/8 [==============================] - 0s 2ms/step - loss: 0.2510 - accuracy: 0.9091\n",
            "Epoch 235/300\n",
            "8/8 [==============================] - 0s 3ms/step - loss: 0.2506 - accuracy: 0.9091\n",
            "Epoch 236/300\n",
            "8/8 [==============================] - 0s 4ms/step - loss: 0.2501 - accuracy: 0.9132\n",
            "Epoch 237/300\n",
            "8/8 [==============================] - 0s 3ms/step - loss: 0.2499 - accuracy: 0.9050\n",
            "Epoch 238/300\n",
            "8/8 [==============================] - 0s 2ms/step - loss: 0.2493 - accuracy: 0.9091\n",
            "Epoch 239/300\n",
            "8/8 [==============================] - 0s 2ms/step - loss: 0.2488 - accuracy: 0.9091\n",
            "Epoch 240/300\n",
            "8/8 [==============================] - 0s 2ms/step - loss: 0.2486 - accuracy: 0.9132\n",
            "Epoch 241/300\n",
            "8/8 [==============================] - 0s 3ms/step - loss: 0.2480 - accuracy: 0.9174\n",
            "Epoch 242/300\n",
            "8/8 [==============================] - 0s 3ms/step - loss: 0.2478 - accuracy: 0.9174\n",
            "Epoch 243/300\n",
            "8/8 [==============================] - 0s 3ms/step - loss: 0.2473 - accuracy: 0.9132\n",
            "Epoch 244/300\n",
            "8/8 [==============================] - 0s 3ms/step - loss: 0.2469 - accuracy: 0.9132\n",
            "Epoch 245/300\n",
            "8/8 [==============================] - 0s 2ms/step - loss: 0.2465 - accuracy: 0.9132\n",
            "Epoch 246/300\n",
            "8/8 [==============================] - 0s 2ms/step - loss: 0.2461 - accuracy: 0.9132\n",
            "Epoch 247/300\n",
            "8/8 [==============================] - 0s 2ms/step - loss: 0.2458 - accuracy: 0.9132\n",
            "Epoch 248/300\n",
            "8/8 [==============================] - 0s 2ms/step - loss: 0.2454 - accuracy: 0.9132\n",
            "Epoch 249/300\n",
            "8/8 [==============================] - 0s 3ms/step - loss: 0.2449 - accuracy: 0.9174\n",
            "Epoch 250/300\n",
            "8/8 [==============================] - 0s 3ms/step - loss: 0.2449 - accuracy: 0.9132\n",
            "Epoch 251/300\n",
            "8/8 [==============================] - 0s 2ms/step - loss: 0.2443 - accuracy: 0.9174\n",
            "Epoch 252/300\n",
            "8/8 [==============================] - 0s 3ms/step - loss: 0.2438 - accuracy: 0.9174\n",
            "Epoch 253/300\n",
            "8/8 [==============================] - 0s 3ms/step - loss: 0.2435 - accuracy: 0.9174\n",
            "Epoch 254/300\n",
            "8/8 [==============================] - 0s 3ms/step - loss: 0.2430 - accuracy: 0.9174\n",
            "Epoch 255/300\n",
            "8/8 [==============================] - 0s 2ms/step - loss: 0.2426 - accuracy: 0.9174\n",
            "Epoch 256/300\n",
            "8/8 [==============================] - 0s 3ms/step - loss: 0.2424 - accuracy: 0.9174\n",
            "Epoch 257/300\n",
            "8/8 [==============================] - 0s 3ms/step - loss: 0.2417 - accuracy: 0.9174\n",
            "Epoch 258/300\n",
            "8/8 [==============================] - 0s 3ms/step - loss: 0.2415 - accuracy: 0.9174\n",
            "Epoch 259/300\n",
            "8/8 [==============================] - 0s 3ms/step - loss: 0.2408 - accuracy: 0.9174\n",
            "Epoch 260/300\n",
            "8/8 [==============================] - 0s 2ms/step - loss: 0.2404 - accuracy: 0.9174\n",
            "Epoch 261/300\n",
            "8/8 [==============================] - 0s 2ms/step - loss: 0.2400 - accuracy: 0.9174\n",
            "Epoch 262/300\n",
            "8/8 [==============================] - 0s 2ms/step - loss: 0.2396 - accuracy: 0.9174\n",
            "Epoch 263/300\n",
            "8/8 [==============================] - 0s 3ms/step - loss: 0.2391 - accuracy: 0.9174\n",
            "Epoch 264/300\n",
            "8/8 [==============================] - 0s 3ms/step - loss: 0.2387 - accuracy: 0.9174\n",
            "Epoch 265/300\n",
            "8/8 [==============================] - 0s 3ms/step - loss: 0.2385 - accuracy: 0.9174\n",
            "Epoch 266/300\n",
            "8/8 [==============================] - 0s 2ms/step - loss: 0.2380 - accuracy: 0.9174\n",
            "Epoch 267/300\n",
            "8/8 [==============================] - 0s 3ms/step - loss: 0.2374 - accuracy: 0.9174\n",
            "Epoch 268/300\n",
            "8/8 [==============================] - 0s 3ms/step - loss: 0.2370 - accuracy: 0.9174\n",
            "Epoch 269/300\n",
            "8/8 [==============================] - 0s 3ms/step - loss: 0.2366 - accuracy: 0.9174\n",
            "Epoch 270/300\n",
            "8/8 [==============================] - 0s 2ms/step - loss: 0.2362 - accuracy: 0.9174\n",
            "Epoch 271/300\n",
            "8/8 [==============================] - 0s 3ms/step - loss: 0.2355 - accuracy: 0.9174\n",
            "Epoch 272/300\n",
            "8/8 [==============================] - 0s 3ms/step - loss: 0.2351 - accuracy: 0.9174\n",
            "Epoch 273/300\n",
            "8/8 [==============================] - 0s 3ms/step - loss: 0.2347 - accuracy: 0.9174\n",
            "Epoch 274/300\n",
            "8/8 [==============================] - 0s 3ms/step - loss: 0.2341 - accuracy: 0.9215\n",
            "Epoch 275/300\n",
            "8/8 [==============================] - 0s 3ms/step - loss: 0.2337 - accuracy: 0.9215\n",
            "Epoch 276/300\n",
            "8/8 [==============================] - 0s 2ms/step - loss: 0.2333 - accuracy: 0.9215\n",
            "Epoch 277/300\n",
            "8/8 [==============================] - 0s 3ms/step - loss: 0.2329 - accuracy: 0.9215\n",
            "Epoch 278/300\n",
            "8/8 [==============================] - 0s 2ms/step - loss: 0.2323 - accuracy: 0.9215\n",
            "Epoch 279/300\n",
            "8/8 [==============================] - 0s 2ms/step - loss: 0.2320 - accuracy: 0.9215\n",
            "Epoch 280/300\n",
            "8/8 [==============================] - 0s 2ms/step - loss: 0.2316 - accuracy: 0.9174\n",
            "Epoch 281/300\n",
            "8/8 [==============================] - 0s 3ms/step - loss: 0.2311 - accuracy: 0.9174\n",
            "Epoch 282/300\n",
            "8/8 [==============================] - 0s 2ms/step - loss: 0.2308 - accuracy: 0.9215\n",
            "Epoch 283/300\n",
            "8/8 [==============================] - 0s 3ms/step - loss: 0.2302 - accuracy: 0.9215\n",
            "Epoch 284/300\n",
            "8/8 [==============================] - 0s 2ms/step - loss: 0.2299 - accuracy: 0.9215\n",
            "Epoch 285/300\n",
            "8/8 [==============================] - 0s 3ms/step - loss: 0.2293 - accuracy: 0.9215\n",
            "Epoch 286/300\n",
            "8/8 [==============================] - 0s 3ms/step - loss: 0.2292 - accuracy: 0.9215\n",
            "Epoch 287/300\n",
            "8/8 [==============================] - 0s 3ms/step - loss: 0.2286 - accuracy: 0.9215\n",
            "Epoch 288/300\n",
            "8/8 [==============================] - 0s 2ms/step - loss: 0.2282 - accuracy: 0.9215\n",
            "Epoch 289/300\n",
            "8/8 [==============================] - 0s 2ms/step - loss: 0.2277 - accuracy: 0.9215\n",
            "Epoch 290/300\n",
            "8/8 [==============================] - 0s 3ms/step - loss: 0.2273 - accuracy: 0.9215\n",
            "Epoch 291/300\n",
            "8/8 [==============================] - 0s 2ms/step - loss: 0.2268 - accuracy: 0.9215\n",
            "Epoch 292/300\n",
            "8/8 [==============================] - 0s 3ms/step - loss: 0.2265 - accuracy: 0.9215\n",
            "Epoch 293/300\n",
            "8/8 [==============================] - 0s 3ms/step - loss: 0.2261 - accuracy: 0.9215\n",
            "Epoch 294/300\n",
            "8/8 [==============================] - 0s 2ms/step - loss: 0.2254 - accuracy: 0.9215\n",
            "Epoch 295/300\n",
            "8/8 [==============================] - 0s 3ms/step - loss: 0.2253 - accuracy: 0.9215\n",
            "Epoch 296/300\n",
            "8/8 [==============================] - 0s 3ms/step - loss: 0.2247 - accuracy: 0.9215\n",
            "Epoch 297/300\n",
            "8/8 [==============================] - 0s 3ms/step - loss: 0.2243 - accuracy: 0.9256\n",
            "Epoch 298/300\n",
            "8/8 [==============================] - 0s 2ms/step - loss: 0.2240 - accuracy: 0.9256\n",
            "Epoch 299/300\n",
            "8/8 [==============================] - 0s 3ms/step - loss: 0.2234 - accuracy: 0.9256\n",
            "Epoch 300/300\n",
            "8/8 [==============================] - 0s 2ms/step - loss: 0.2232 - accuracy: 0.9256\n"
          ]
        },
        {
          "output_type": "execute_result",
          "data": {
            "text/plain": [
              "<keras.callbacks.History at 0x7fc391114bd0>"
            ]
          },
          "metadata": {},
          "execution_count": 45
        }
      ]
    },
    {
      "cell_type": "markdown",
      "metadata": {
        "id": "XC7e9DOG8GEj"
      },
      "source": [
        "Predicting the Test Set Results"
      ]
    },
    {
      "cell_type": "code",
      "metadata": {
        "id": "ddZXHFjNtvcT",
        "colab": {
          "base_uri": "https://localhost:8080/"
        },
        "outputId": "7bae8f43-f3c9-4c62-ffc5-503fad50587b"
      },
      "source": [
        "Y_pred_nn = model.predict(X_test)\n",
        "Y_pred_nn = (Y_pred_nn > 0.5)\n",
        "nn_score = accuracy_score(Y_test,Y_pred_nn)*100\n",
        "nn_cm=confusion_matrix(Y_test,Y_pred_nn)\n",
        "print(\"The confusion matrix of Neural Networks is\\n\\n\"+str(nn_cm))\n",
        "print(\"The accuracy score achieved using Neural Network is: \"+str(nn_score)+\" %\")\n"
      ],
      "execution_count": null,
      "outputs": [
        {
          "output_type": "stream",
          "name": "stdout",
          "text": [
            "The confusion matrix of Neural Networks is\n",
            "\n",
            "[[22  5]\n",
            " [ 1 33]]\n",
            "The accuracy score achieved using Neural Network is: 90.1639344262295 %\n"
          ]
        }
      ]
    },
    {
      "cell_type": "markdown",
      "metadata": {
        "id": "QQ1AgrsC8Qwc"
      },
      "source": [
        "**STEP 7: Comparing the ACcuracies of the Models before Optimization**"
      ]
    },
    {
      "cell_type": "code",
      "metadata": {
        "id": "mkdwJHMYtvcZ",
        "colab": {
          "base_uri": "https://localhost:8080/"
        },
        "outputId": "fe341695-42af-4535-90e0-098a2403851f"
      },
      "source": [
        "scores = [logreg_score,nb_score,svm_score,knn_score,dt_score,rf_score,nn_score]\n",
        "algorithms = [\"Logistic Regression\",\"Naive Bayes\",\"Support Vector Machine\",\"K-Nearest Neighbors\",\"Decision Tree\",\"Random Forest\",\"Neural Network\"]    \n",
        "\n",
        "for i in range(len(algorithms)):\n",
        "    print(\"The accuracy score achieved using \"+algorithms[i]+\" is: \"+str(scores[i])+\" %\")"
      ],
      "execution_count": null,
      "outputs": [
        {
          "output_type": "stream",
          "name": "stdout",
          "text": [
            "The accuracy score achieved using Logistic Regression is: 85.24590163934425 %\n",
            "The accuracy score achieved using Naive Bayes is: 85.24590163934425 %\n",
            "The accuracy score achieved using Support Vector Machine is: 81.9672131147541 %\n",
            "The accuracy score achieved using K-Nearest Neighbors is: 83.60655737704919 %\n",
            "The accuracy score achieved using Decision Tree is: 78.68852459016394 %\n",
            "The accuracy score achieved using Random Forest is: 88.52459016393442 %\n",
            "The accuracy score achieved using Neural Network is: 90.1639344262295 %\n"
          ]
        }
      ]
    },
    {
      "cell_type": "code",
      "metadata": {
        "id": "IFTlitl4tvcd",
        "colab": {
          "base_uri": "https://localhost:8080/",
          "height": 519
        },
        "outputId": "018cf8a9-602b-4c1c-dae1-8f245f7556d0"
      },
      "source": [
        "sns.set(rc={'figure.figsize':(15,7)})\n",
        "plt.xlabel(\"Algorithms\")\n",
        "plt.ylabel(\"Accuracy score\")\n",
        "\n",
        "sns.barplot(algorithms,scores)"
      ],
      "execution_count": null,
      "outputs": [
        {
          "output_type": "stream",
          "name": "stderr",
          "text": [
            "/usr/local/lib/python3.7/dist-packages/seaborn/_decorators.py:43: FutureWarning: Pass the following variables as keyword args: x, y. From version 0.12, the only valid positional argument will be `data`, and passing other arguments without an explicit keyword will result in an error or misinterpretation.\n",
            "  FutureWarning\n"
          ]
        },
        {
          "output_type": "execute_result",
          "data": {
            "text/plain": [
              "<matplotlib.axes._subplots.AxesSubplot at 0x7fc39108c490>"
            ]
          },
          "metadata": {},
          "execution_count": 48
        },
        {
          "output_type": "display_data",
          "data": {
            "image/png": "[encoded data removed]",
            "text/plain": [
              "<Figure size 1080x504 with 1 Axes>"
            ]
          },
          "metadata": {}
        }
      ]
    },
    {
      "cell_type": "markdown",
      "metadata": {
        "id": "XtKiUNp4tvcg"
      },
      "source": [
        "**STEP 8: Optimization**"
      ]
    },
    {
      "cell_type": "markdown",
      "metadata": {
        "id": "ztG-J49A8g8I"
      },
      "source": [
        "1. SVM - Kernel SVM"
      ]
    },
    {
      "cell_type": "code",
      "metadata": {
        "id": "h0hqpkFptvci",
        "colab": {
          "base_uri": "https://localhost:8080/"
        },
        "outputId": "52faf61e-77b2-43b2-d2ba-38e4ea067489"
      },
      "source": [
        "from sklearn import svm\n",
        "\n",
        "for kernel in ('linear','poly','rbf'):\n",
        "    \n",
        "    sv = svm.SVC(kernel=kernel)\n",
        "\n",
        "    sv.fit(X_train, Y_train)\n",
        "    Y_pred_svm = sv.predict(X_test)\n",
        "    svm_score_new=accuracy_score(Y_test,Y_pred_svm)*100\n",
        "    svm_cm=confusion_matrix(Y_test,Y_pred_svm)\n",
        "    #print(\"The confusion matrix for Support Vector Machines is \\n\\n\"+str(svm_cm))\n",
        "    print(\"\\nThe accuracy of Support Vector Machines is\\n\\n \"+str(svm_score_new)+\" %\")"
      ],
      "execution_count": null,
      "outputs": [
        {
          "output_type": "stream",
          "name": "stdout",
          "text": [
            "\n",
            "The accuracy of Support Vector Machines is\n",
            "\n",
            " 81.9672131147541 %\n",
            "\n",
            "The accuracy of Support Vector Machines is\n",
            "\n",
            " 83.60655737704919 %\n",
            "\n",
            "The accuracy of Support Vector Machines is\n",
            "\n",
            " 86.88524590163934 %\n"
          ]
        }
      ]
    },
    {
      "cell_type": "code",
      "metadata": {
        "id": "7GDNqQm4tvcn",
        "colab": {
          "base_uri": "https://localhost:8080/"
        },
        "outputId": "c9050f1e-ced5-4b15-abe0-c182c5ce9ae4"
      },
      "source": [
        "from sklearn import svm\n",
        "\n",
        "\n",
        "    \n",
        "sv = svm.SVC(kernel='rbf')\n",
        "\n",
        "sv.fit(X_train, Y_train)\n",
        "Y_pred_svm = sv.predict(X_test)\n",
        "\n",
        "svm_score_new=accuracy_score(Y_test,Y_pred_svm)*100\n",
        "svm_cm=confusion_matrix(Y_test,Y_pred_svm)\n",
        "print(\"The confusion matrix for Support Vector Machines is \\n\\n\"+str(svm_cm))\n",
        "print(\"\\nThe accuracy of Support Vector Machines is\\n\\n \"+str(svm_score_new)+\" %\")\n",
        "\n",
        "\n",
        "\n"
      ],
      "execution_count": null,
      "outputs": [
        {
          "output_type": "stream",
          "name": "stdout",
          "text": [
            "The confusion matrix for Support Vector Machines is \n",
            "\n",
            "[[21  6]\n",
            " [ 2 32]]\n",
            "\n",
            "The accuracy of Support Vector Machines is\n",
            "\n",
            " 86.88524590163934 %\n"
          ]
        }
      ]
    },
    {
      "cell_type": "markdown",
      "metadata": {
        "id": "DXw0nHUP8mza"
      },
      "source": [
        "2. KNN"
      ]
    },
    {
      "cell_type": "code",
      "metadata": {
        "id": "zrkXYQgMtvcr",
        "colab": {
          "base_uri": "https://localhost:8080/"
        },
        "outputId": "87dc1ded-110d-4b9e-cd58-52e15db1c4a2"
      },
      "source": [
        "from sklearn.neighbors import KNeighborsClassifier\n",
        "for i in range(1,20):\n",
        "    knn = KNeighborsClassifier(n_neighbors=i)\n",
        "    knn.fit(X_train,Y_train)\n",
        "    Y_pred_knn=knn.predict(X_test)\n",
        "    knn_score_new=accuracy_score(Y_test,Y_pred_knn)*100\n",
        "    knn_cm=confusion_matrix(Y_test,Y_pred_knn)\n",
        "    #print(\"The confusion matrix of K Nearest Neighbour for N = \"+str(i)+\" is\\n\\n\"+str(knn_cm))\n",
        "    print(\"\\nThe accuracy of K Nearest Neighbour for N = \"+str(i)+\" is \"+str(knn_score_new)+\" %\")\n"
      ],
      "execution_count": null,
      "outputs": [
        {
          "output_type": "stream",
          "name": "stdout",
          "text": [
            "\n",
            "The accuracy of K Nearest Neighbour for N = 1 is 81.9672131147541 %\n",
            "\n",
            "The accuracy of K Nearest Neighbour for N = 2 is 81.9672131147541 %\n",
            "\n",
            "The accuracy of K Nearest Neighbour for N = 3 is 83.60655737704919 %\n",
            "\n",
            "The accuracy of K Nearest Neighbour for N = 4 is 85.24590163934425 %\n",
            "\n",
            "The accuracy of K Nearest Neighbour for N = 5 is 81.9672131147541 %\n",
            "\n",
            "The accuracy of K Nearest Neighbour for N = 6 is 83.60655737704919 %\n",
            "\n",
            "The accuracy of K Nearest Neighbour for N = 7 is 83.60655737704919 %\n",
            "\n",
            "The accuracy of K Nearest Neighbour for N = 8 is 85.24590163934425 %\n",
            "\n",
            "The accuracy of K Nearest Neighbour for N = 9 is 85.24590163934425 %\n",
            "\n",
            "The accuracy of K Nearest Neighbour for N = 10 is 88.52459016393442 %\n",
            "\n",
            "The accuracy of K Nearest Neighbour for N = 11 is 81.9672131147541 %\n",
            "\n",
            "The accuracy of K Nearest Neighbour for N = 12 is 81.9672131147541 %\n",
            "\n",
            "The accuracy of K Nearest Neighbour for N = 13 is 85.24590163934425 %\n",
            "\n",
            "The accuracy of K Nearest Neighbour for N = 14 is 85.24590163934425 %\n",
            "\n",
            "The accuracy of K Nearest Neighbour for N = 15 is 83.60655737704919 %\n",
            "\n",
            "The accuracy of K Nearest Neighbour for N = 16 is 83.60655737704919 %\n",
            "\n",
            "The accuracy of K Nearest Neighbour for N = 17 is 83.60655737704919 %\n",
            "\n",
            "The accuracy of K Nearest Neighbour for N = 18 is 83.60655737704919 %\n",
            "\n",
            "The accuracy of K Nearest Neighbour for N = 19 is 81.9672131147541 %\n"
          ]
        }
      ]
    },
    {
      "cell_type": "code",
      "metadata": {
        "id": "RpWi8r4Ptvcv",
        "colab": {
          "base_uri": "https://localhost:8080/"
        },
        "outputId": "616f9b79-7cb6-4d1f-8e0a-e3c85def7d2c"
      },
      "source": [
        "from sklearn.neighbors import KNeighborsClassifier\n",
        "\n",
        "knn = KNeighborsClassifier(n_neighbors=10)\n",
        "knn.fit(X_train,Y_train)\n",
        "Y_pred_knn=knn.predict(X_test)\n",
        "knn_score_new=accuracy_score(Y_test,Y_pred_knn)*100\n",
        "knn_cm=confusion_matrix(Y_test,Y_pred_knn)\n",
        "print(\"The confusion matrix of K Nearest Neighbour for N = 10 is\\n\\n\"+str(knn_cm))\n",
        "print(\"\\nThe accuracy of K Nearest Neighbour for N = 10 is \"+str(knn_score_new)+\" %\")\n",
        "\n"
      ],
      "execution_count": null,
      "outputs": [
        {
          "output_type": "stream",
          "name": "stdout",
          "text": [
            "The confusion matrix of K Nearest Neighbour for N = 10 is\n",
            "\n",
            "[[24  3]\n",
            " [ 4 30]]\n",
            "\n",
            "The accuracy of K Nearest Neighbour for N = 10 is 88.52459016393442 %\n"
          ]
        }
      ]
    },
    {
      "cell_type": "markdown",
      "metadata": {
        "id": "XKRGdmBA8qvn"
      },
      "source": [
        "3. Decision Tree"
      ]
    },
    {
      "cell_type": "code",
      "metadata": {
        "id": "bhMY19nUtvcy",
        "colab": {
          "base_uri": "https://localhost:8080/"
        },
        "outputId": "3f7e1e8d-a1bb-40dc-ff6e-c47e0e675632"
      },
      "source": [
        "from sklearn.tree import DecisionTreeClassifier\n",
        "\n",
        "max_accuracy = 0\n",
        "\n",
        "\n",
        "for x in range(100):\n",
        "    dt = DecisionTreeClassifier(random_state=x)\n",
        "    dt.fit(X_train,Y_train)\n",
        "    Y_pred_dt = dt.predict(X_test)\n",
        "    current_accuracy = round(accuracy_score(Y_pred_dt,Y_test)*100,2)\n",
        "    if(current_accuracy>max_accuracy):\n",
        "        max_accuracy = current_accuracy\n",
        "        best_x = x\n",
        "\n",
        "print(best_x)        \n",
        "dt = DecisionTreeClassifier(random_state=best_x)\n",
        "dt.fit(X_train,Y_train)\n",
        "Y_pred_dt = dt.predict(X_test)"
      ],
      "execution_count": null,
      "outputs": [
        {
          "output_type": "stream",
          "name": "stdout",
          "text": [
            "11\n"
          ]
        }
      ]
    },
    {
      "cell_type": "code",
      "metadata": {
        "id": "DF5NkWGDtvc3",
        "colab": {
          "base_uri": "https://localhost:8080/"
        },
        "outputId": "3d763850-25fd-4aa3-8776-106ed010cf4b"
      },
      "source": [
        "dt_score_new=accuracy_score(Y_test,Y_pred_dt)*100\n",
        "dt_cm=confusion_matrix(Y_test,Y_pred_dt)\n",
        "print(\"The confusion matrix of Decision Trees is\\n\\n\"+str(dt_cm))\n",
        "print(\"\\nThe accuracy of Decision Trees is \"+str(dt_score_new)+\" %\")"
      ],
      "execution_count": null,
      "outputs": [
        {
          "output_type": "stream",
          "name": "stdout",
          "text": [
            "The confusion matrix of Decision Trees is\n",
            "\n",
            "[[22  5]\n",
            " [ 7 27]]\n",
            "\n",
            "The accuracy of Decision Trees is 80.32786885245902 %\n"
          ]
        }
      ]
    },
    {
      "cell_type": "markdown",
      "metadata": {
        "id": "zT6EO1818uIW"
      },
      "source": [
        "4. Random Forest"
      ]
    },
    {
      "cell_type": "code",
      "metadata": {
        "id": "WdgFt1RAtvdA"
      },
      "source": [
        "# from sklearn.ensemble import RandomForestClassifier\n",
        "\n",
        "# max_accuracy = 0\n",
        "\n",
        "\n",
        "# for x in range(2000):\n",
        "#     rf = RandomForestClassifier(random_state=x)\n",
        "#     rf.fit(X_train,Y_train)\n",
        "#     Y_pred_rf = rf.predict(X_test)\n",
        "#     current_accuracy = round(accuracy_score(Y_pred_rf,Y_test)*100,2)\n",
        "#     if(current_accuracy>max_accuracy):\n",
        "#         max_accuracy = current_accuracy\n",
        "#         best_x = x\n",
        "    \n",
        "\n",
        "\n",
        "# print(best_x)\n",
        "\n",
        "rf = RandomForestClassifier(random_state=1803)\n",
        "rf.fit(X_train,Y_train)\n",
        "Y_pred_rf = rf.predict(X_test)"
      ],
      "execution_count": null,
      "outputs": []
    },
    {
      "cell_type": "code",
      "metadata": {
        "id": "prl6KEGhtvdC",
        "colab": {
          "base_uri": "https://localhost:8080/"
        },
        "outputId": "e050dd90-30f8-4468-b5dd-2add085ad037"
      },
      "source": [
        "rf_score_new=accuracy_score(Y_test,Y_pred_rf)*100\n",
        "rf_cm=confusion_matrix(Y_test,Y_pred_rf)\n",
        "print(\"The confusion matrix of Random Forest is\\n\\n\"+str(rf_cm))\n",
        "print(\"\\nThe accuracy of Random Forest is \"+str(rf_score_new)+\" %\")"
      ],
      "execution_count": null,
      "outputs": [
        {
          "output_type": "stream",
          "name": "stdout",
          "text": [
            "The confusion matrix of Random Forest is\n",
            "\n",
            "[[25  2]\n",
            " [ 3 31]]\n",
            "\n",
            "The accuracy of Random Forest is 91.80327868852459 %\n"
          ]
        }
      ]
    },
    {
      "cell_type": "markdown",
      "metadata": {
        "id": "Y9eUvn7zT_Sw"
      },
      "source": [
        "5. Neural Networks"
      ]
    },
    {
      "cell_type": "code",
      "metadata": {
        "id": "g6gVmIuBtvdF"
      },
      "source": [
        "from keras.models import Sequential\n",
        "from keras.layers import Dense"
      ],
      "execution_count": null,
      "outputs": []
    },
    {
      "cell_type": "code",
      "metadata": {
        "id": "apyFkNLytvdG"
      },
      "source": [
        "classifier = Sequential()\n",
        "classifier.add(Dense(units = 11, kernel_initializer = 'uniform', activation = 'relu', input_dim = 13))\n",
        "classifier.add(Dense(units = 5, kernel_initializer = 'uniform', activation = 'relu'))\n",
        "classifier.add(Dense(units = 1, kernel_initializer = 'uniform', activation = 'sigmoid'))\n",
        "classifier.compile(optimizer = 'adam', loss = 'binary_crossentropy', metrics = ['accuracy'])"
      ],
      "execution_count": null,
      "outputs": []
    },
    {
      "cell_type": "code",
      "metadata": {
        "id": "F_-r3yhKtvdI",
        "colab": {
          "base_uri": "https://localhost:8080/"
        },
        "outputId": "70bd304c-a253-43f0-a25a-11c07f1db684"
      },
      "source": [
        "classifier.fit(X_train,Y_train,epochs=350)"
      ],
      "execution_count": null,
      "outputs": [
        {
          "output_type": "stream",
          "name": "stdout",
          "text": [
            "Epoch 1/350\n",
            "8/8 [==============================] - 1s 3ms/step - loss: 0.6932 - accuracy: 0.4959\n",
            "Epoch 2/350\n",
            "8/8 [==============================] - 0s 2ms/step - loss: 0.6929 - accuracy: 0.5413\n",
            "Epoch 3/350\n",
            "8/8 [==============================] - 0s 3ms/step - loss: 0.6926 - accuracy: 0.5413\n",
            "Epoch 4/350\n",
            "8/8 [==============================] - 0s 2ms/step - loss: 0.6922 - accuracy: 0.5413\n",
            "Epoch 5/350\n",
            "8/8 [==============================] - 0s 2ms/step - loss: 0.6916 - accuracy: 0.5413\n",
            "Epoch 6/350\n",
            "8/8 [==============================] - 0s 3ms/step - loss: 0.6904 - accuracy: 0.5413\n",
            "Epoch 7/350\n",
            "8/8 [==============================] - 0s 3ms/step - loss: 0.6888 - accuracy: 0.5413\n",
            "Epoch 8/350\n",
            "8/8 [==============================] - 0s 2ms/step - loss: 0.6862 - accuracy: 0.5455\n",
            "Epoch 9/350\n",
            "8/8 [==============================] - 0s 2ms/step - loss: 0.6822 - accuracy: 0.6157\n",
            "Epoch 10/350\n",
            "8/8 [==============================] - 0s 2ms/step - loss: 0.6768 - accuracy: 0.7397\n",
            "Epoch 11/350\n",
            "8/8 [==============================] - 0s 2ms/step - loss: 0.6694 - accuracy: 0.8058\n",
            "Epoch 12/350\n",
            "8/8 [==============================] - 0s 2ms/step - loss: 0.6598 - accuracy: 0.8223\n",
            "Epoch 13/350\n",
            "8/8 [==============================] - 0s 2ms/step - loss: 0.6482 - accuracy: 0.8306\n",
            "Epoch 14/350\n",
            "8/8 [==============================] - 0s 2ms/step - loss: 0.6338 - accuracy: 0.8347\n",
            "Epoch 15/350\n",
            "8/8 [==============================] - 0s 2ms/step - loss: 0.6179 - accuracy: 0.8306\n",
            "Epoch 16/350\n",
            "8/8 [==============================] - 0s 3ms/step - loss: 0.5993 - accuracy: 0.8388\n",
            "Epoch 17/350\n",
            "8/8 [==============================] - 0s 4ms/step - loss: 0.5797 - accuracy: 0.8306\n",
            "Epoch 18/350\n",
            "8/8 [==============================] - 0s 4ms/step - loss: 0.5581 - accuracy: 0.8347\n",
            "Epoch 19/350\n",
            "8/8 [==============================] - 0s 2ms/step - loss: 0.5364 - accuracy: 0.8347\n",
            "Epoch 20/350\n",
            "8/8 [==============================] - 0s 2ms/step - loss: 0.5153 - accuracy: 0.8306\n",
            "Epoch 21/350\n",
            "8/8 [==============================] - 0s 2ms/step - loss: 0.4951 - accuracy: 0.8388\n",
            "Epoch 22/350\n",
            "8/8 [==============================] - 0s 3ms/step - loss: 0.4757 - accuracy: 0.8388\n",
            "Epoch 23/350\n",
            "8/8 [==============================] - 0s 2ms/step - loss: 0.4578 - accuracy: 0.8388\n",
            "Epoch 24/350\n",
            "8/8 [==============================] - 0s 3ms/step - loss: 0.4424 - accuracy: 0.8430\n",
            "Epoch 25/350\n",
            "8/8 [==============================] - 0s 3ms/step - loss: 0.4280 - accuracy: 0.8471\n",
            "Epoch 26/350\n",
            "8/8 [==============================] - 0s 3ms/step - loss: 0.4161 - accuracy: 0.8430\n",
            "Epoch 27/350\n",
            "8/8 [==============================] - 0s 2ms/step - loss: 0.4056 - accuracy: 0.8471\n",
            "Epoch 28/350\n",
            "8/8 [==============================] - 0s 2ms/step - loss: 0.3970 - accuracy: 0.8512\n",
            "Epoch 29/350\n",
            "8/8 [==============================] - 0s 2ms/step - loss: 0.3893 - accuracy: 0.8512\n",
            "Epoch 30/350\n",
            "8/8 [==============================] - 0s 2ms/step - loss: 0.3827 - accuracy: 0.8554\n",
            "Epoch 31/350\n",
            "8/8 [==============================] - 0s 2ms/step - loss: 0.3778 - accuracy: 0.8554\n",
            "Epoch 32/350\n",
            "8/8 [==============================] - 0s 4ms/step - loss: 0.3725 - accuracy: 0.8554\n",
            "Epoch 33/350\n",
            "8/8 [==============================] - 0s 3ms/step - loss: 0.3686 - accuracy: 0.8554\n",
            "Epoch 34/350\n",
            "8/8 [==============================] - 0s 2ms/step - loss: 0.3652 - accuracy: 0.8554\n",
            "Epoch 35/350\n",
            "8/8 [==============================] - 0s 3ms/step - loss: 0.3624 - accuracy: 0.8554\n",
            "Epoch 36/350\n",
            "8/8 [==============================] - 0s 3ms/step - loss: 0.3602 - accuracy: 0.8512\n",
            "Epoch 37/350\n",
            "8/8 [==============================] - 0s 3ms/step - loss: 0.3573 - accuracy: 0.8512\n",
            "Epoch 38/350\n",
            "8/8 [==============================] - 0s 2ms/step - loss: 0.3558 - accuracy: 0.8512\n",
            "Epoch 39/350\n",
            "8/8 [==============================] - 0s 3ms/step - loss: 0.3536 - accuracy: 0.8512\n",
            "Epoch 40/350\n",
            "8/8 [==============================] - 0s 2ms/step - loss: 0.3522 - accuracy: 0.8512\n",
            "Epoch 41/350\n",
            "8/8 [==============================] - 0s 3ms/step - loss: 0.3507 - accuracy: 0.8512\n",
            "Epoch 42/350\n",
            "8/8 [==============================] - 0s 3ms/step - loss: 0.3492 - accuracy: 0.8512\n",
            "Epoch 43/350\n",
            "8/8 [==============================] - 0s 3ms/step - loss: 0.3479 - accuracy: 0.8512\n",
            "Epoch 44/350\n",
            "8/8 [==============================] - 0s 3ms/step - loss: 0.3467 - accuracy: 0.8512\n",
            "Epoch 45/350\n",
            "8/8 [==============================] - 0s 3ms/step - loss: 0.3452 - accuracy: 0.8512\n",
            "Epoch 46/350\n",
            "8/8 [==============================] - 0s 3ms/step - loss: 0.3441 - accuracy: 0.8554\n",
            "Epoch 47/350\n",
            "8/8 [==============================] - 0s 2ms/step - loss: 0.3431 - accuracy: 0.8554\n",
            "Epoch 48/350\n",
            "8/8 [==============================] - 0s 3ms/step - loss: 0.3419 - accuracy: 0.8595\n",
            "Epoch 49/350\n",
            "8/8 [==============================] - 0s 3ms/step - loss: 0.3405 - accuracy: 0.8595\n",
            "Epoch 50/350\n",
            "8/8 [==============================] - 0s 2ms/step - loss: 0.3396 - accuracy: 0.8595\n",
            "Epoch 51/350\n",
            "8/8 [==============================] - 0s 3ms/step - loss: 0.3387 - accuracy: 0.8636\n",
            "Epoch 52/350\n",
            "8/8 [==============================] - 0s 2ms/step - loss: 0.3376 - accuracy: 0.8678\n",
            "Epoch 53/350\n",
            "8/8 [==============================] - 0s 3ms/step - loss: 0.3365 - accuracy: 0.8678\n",
            "Epoch 54/350\n",
            "8/8 [==============================] - 0s 2ms/step - loss: 0.3356 - accuracy: 0.8678\n",
            "Epoch 55/350\n",
            "8/8 [==============================] - 0s 2ms/step - loss: 0.3348 - accuracy: 0.8678\n",
            "Epoch 56/350\n",
            "8/8 [==============================] - 0s 2ms/step - loss: 0.3340 - accuracy: 0.8678\n",
            "Epoch 57/350\n",
            "8/8 [==============================] - 0s 4ms/step - loss: 0.3330 - accuracy: 0.8678\n",
            "Epoch 58/350\n",
            "8/8 [==============================] - 0s 3ms/step - loss: 0.3321 - accuracy: 0.8678\n",
            "Epoch 59/350\n",
            "8/8 [==============================] - 0s 2ms/step - loss: 0.3313 - accuracy: 0.8678\n",
            "Epoch 60/350\n",
            "8/8 [==============================] - 0s 3ms/step - loss: 0.3304 - accuracy: 0.8678\n",
            "Epoch 61/350\n",
            "8/8 [==============================] - 0s 4ms/step - loss: 0.3295 - accuracy: 0.8678\n",
            "Epoch 62/350\n",
            "8/8 [==============================] - 0s 3ms/step - loss: 0.3286 - accuracy: 0.8678\n",
            "Epoch 63/350\n",
            "8/8 [==============================] - 0s 2ms/step - loss: 0.3280 - accuracy: 0.8678\n",
            "Epoch 64/350\n",
            "8/8 [==============================] - 0s 2ms/step - loss: 0.3271 - accuracy: 0.8678\n",
            "Epoch 65/350\n",
            "8/8 [==============================] - 0s 2ms/step - loss: 0.3261 - accuracy: 0.8719\n",
            "Epoch 66/350\n",
            "8/8 [==============================] - 0s 3ms/step - loss: 0.3252 - accuracy: 0.8719\n",
            "Epoch 67/350\n",
            "8/8 [==============================] - 0s 2ms/step - loss: 0.3244 - accuracy: 0.8719\n",
            "Epoch 68/350\n",
            "8/8 [==============================] - 0s 4ms/step - loss: 0.3236 - accuracy: 0.8719\n",
            "Epoch 69/350\n",
            "8/8 [==============================] - 0s 3ms/step - loss: 0.3226 - accuracy: 0.8719\n",
            "Epoch 70/350\n",
            "8/8 [==============================] - 0s 2ms/step - loss: 0.3219 - accuracy: 0.8760\n",
            "Epoch 71/350\n",
            "8/8 [==============================] - 0s 2ms/step - loss: 0.3211 - accuracy: 0.8760\n",
            "Epoch 72/350\n",
            "8/8 [==============================] - 0s 3ms/step - loss: 0.3202 - accuracy: 0.8760\n",
            "Epoch 73/350\n",
            "8/8 [==============================] - 0s 4ms/step - loss: 0.3191 - accuracy: 0.8760\n",
            "Epoch 74/350\n",
            "8/8 [==============================] - 0s 2ms/step - loss: 0.3185 - accuracy: 0.8760\n",
            "Epoch 75/350\n",
            "8/8 [==============================] - 0s 3ms/step - loss: 0.3173 - accuracy: 0.8760\n",
            "Epoch 76/350\n",
            "8/8 [==============================] - 0s 2ms/step - loss: 0.3168 - accuracy: 0.8760\n",
            "Epoch 77/350\n",
            "8/8 [==============================] - 0s 2ms/step - loss: 0.3161 - accuracy: 0.8760\n",
            "Epoch 78/350\n",
            "8/8 [==============================] - 0s 3ms/step - loss: 0.3150 - accuracy: 0.8760\n",
            "Epoch 79/350\n",
            "8/8 [==============================] - 0s 2ms/step - loss: 0.3143 - accuracy: 0.8760\n",
            "Epoch 80/350\n",
            "8/8 [==============================] - 0s 3ms/step - loss: 0.3134 - accuracy: 0.8760\n",
            "Epoch 81/350\n",
            "8/8 [==============================] - 0s 2ms/step - loss: 0.3127 - accuracy: 0.8760\n",
            "Epoch 82/350\n",
            "8/8 [==============================] - 0s 3ms/step - loss: 0.3119 - accuracy: 0.8802\n",
            "Epoch 83/350\n",
            "8/8 [==============================] - 0s 2ms/step - loss: 0.3114 - accuracy: 0.8843\n",
            "Epoch 84/350\n",
            "8/8 [==============================] - 0s 3ms/step - loss: 0.3105 - accuracy: 0.8843\n",
            "Epoch 85/350\n",
            "8/8 [==============================] - 0s 2ms/step - loss: 0.3099 - accuracy: 0.8843\n",
            "Epoch 86/350\n",
            "8/8 [==============================] - 0s 2ms/step - loss: 0.3093 - accuracy: 0.8843\n",
            "Epoch 87/350\n",
            "8/8 [==============================] - 0s 2ms/step - loss: 0.3085 - accuracy: 0.8843\n",
            "Epoch 88/350\n",
            "8/8 [==============================] - 0s 3ms/step - loss: 0.3079 - accuracy: 0.8843\n",
            "Epoch 89/350\n",
            "8/8 [==============================] - 0s 3ms/step - loss: 0.3075 - accuracy: 0.8843\n",
            "Epoch 90/350\n",
            "8/8 [==============================] - 0s 3ms/step - loss: 0.3070 - accuracy: 0.8843\n",
            "Epoch 91/350\n",
            "8/8 [==============================] - 0s 3ms/step - loss: 0.3062 - accuracy: 0.8843\n",
            "Epoch 92/350\n",
            "8/8 [==============================] - 0s 2ms/step - loss: 0.3056 - accuracy: 0.8843\n",
            "Epoch 93/350\n",
            "8/8 [==============================] - 0s 2ms/step - loss: 0.3050 - accuracy: 0.8843\n",
            "Epoch 94/350\n",
            "8/8 [==============================] - 0s 2ms/step - loss: 0.3046 - accuracy: 0.8843\n",
            "Epoch 95/350\n",
            "8/8 [==============================] - 0s 2ms/step - loss: 0.3039 - accuracy: 0.8843\n",
            "Epoch 96/350\n",
            "8/8 [==============================] - 0s 2ms/step - loss: 0.3035 - accuracy: 0.8843\n",
            "Epoch 97/350\n",
            "8/8 [==============================] - 0s 3ms/step - loss: 0.3031 - accuracy: 0.8843\n",
            "Epoch 98/350\n",
            "8/8 [==============================] - 0s 2ms/step - loss: 0.3025 - accuracy: 0.8843\n",
            "Epoch 99/350\n",
            "8/8 [==============================] - 0s 2ms/step - loss: 0.3017 - accuracy: 0.8843\n",
            "Epoch 100/350\n",
            "8/8 [==============================] - 0s 2ms/step - loss: 0.3011 - accuracy: 0.8843\n",
            "Epoch 101/350\n",
            "8/8 [==============================] - 0s 3ms/step - loss: 0.3008 - accuracy: 0.8884\n",
            "Epoch 102/350\n",
            "8/8 [==============================] - 0s 2ms/step - loss: 0.3000 - accuracy: 0.8884\n",
            "Epoch 103/350\n",
            "8/8 [==============================] - 0s 2ms/step - loss: 0.2996 - accuracy: 0.8884\n",
            "Epoch 104/350\n",
            "8/8 [==============================] - 0s 3ms/step - loss: 0.2988 - accuracy: 0.8884\n",
            "Epoch 105/350\n",
            "8/8 [==============================] - 0s 3ms/step - loss: 0.2983 - accuracy: 0.8884\n",
            "Epoch 106/350\n",
            "8/8 [==============================] - 0s 2ms/step - loss: 0.2978 - accuracy: 0.8884\n",
            "Epoch 107/350\n",
            "8/8 [==============================] - 0s 2ms/step - loss: 0.2973 - accuracy: 0.8884\n",
            "Epoch 108/350\n",
            "8/8 [==============================] - 0s 2ms/step - loss: 0.2969 - accuracy: 0.8884\n",
            "Epoch 109/350\n",
            "8/8 [==============================] - 0s 2ms/step - loss: 0.2964 - accuracy: 0.8884\n",
            "Epoch 110/350\n",
            "8/8 [==============================] - 0s 3ms/step - loss: 0.2957 - accuracy: 0.8884\n",
            "Epoch 111/350\n",
            "8/8 [==============================] - 0s 2ms/step - loss: 0.2951 - accuracy: 0.8884\n",
            "Epoch 112/350\n",
            "8/8 [==============================] - 0s 2ms/step - loss: 0.2947 - accuracy: 0.8884\n",
            "Epoch 113/350\n",
            "8/8 [==============================] - 0s 2ms/step - loss: 0.2942 - accuracy: 0.8884\n",
            "Epoch 114/350\n",
            "8/8 [==============================] - 0s 3ms/step - loss: 0.2937 - accuracy: 0.8884\n",
            "Epoch 115/350\n",
            "8/8 [==============================] - 0s 3ms/step - loss: 0.2931 - accuracy: 0.8884\n",
            "Epoch 116/350\n",
            "8/8 [==============================] - 0s 2ms/step - loss: 0.2929 - accuracy: 0.8884\n",
            "Epoch 117/350\n",
            "8/8 [==============================] - 0s 3ms/step - loss: 0.2922 - accuracy: 0.8884\n",
            "Epoch 118/350\n",
            "8/8 [==============================] - 0s 4ms/step - loss: 0.2917 - accuracy: 0.8884\n",
            "Epoch 119/350\n",
            "8/8 [==============================] - 0s 3ms/step - loss: 0.2912 - accuracy: 0.8884\n",
            "Epoch 120/350\n",
            "8/8 [==============================] - 0s 2ms/step - loss: 0.2908 - accuracy: 0.8884\n",
            "Epoch 121/350\n",
            "8/8 [==============================] - 0s 2ms/step - loss: 0.2901 - accuracy: 0.8843\n",
            "Epoch 122/350\n",
            "8/8 [==============================] - 0s 2ms/step - loss: 0.2897 - accuracy: 0.8884\n",
            "Epoch 123/350\n",
            "8/8 [==============================] - 0s 2ms/step - loss: 0.2891 - accuracy: 0.8884\n",
            "Epoch 124/350\n",
            "8/8 [==============================] - 0s 3ms/step - loss: 0.2886 - accuracy: 0.8884\n",
            "Epoch 125/350\n",
            "8/8 [==============================] - 0s 3ms/step - loss: 0.2881 - accuracy: 0.8884\n",
            "Epoch 126/350\n",
            "8/8 [==============================] - 0s 3ms/step - loss: 0.2876 - accuracy: 0.8884\n",
            "Epoch 127/350\n",
            "8/8 [==============================] - 0s 4ms/step - loss: 0.2872 - accuracy: 0.8884\n",
            "Epoch 128/350\n",
            "8/8 [==============================] - 0s 3ms/step - loss: 0.2865 - accuracy: 0.8884\n",
            "Epoch 129/350\n",
            "8/8 [==============================] - 0s 2ms/step - loss: 0.2860 - accuracy: 0.8884\n",
            "Epoch 130/350\n",
            "8/8 [==============================] - 0s 2ms/step - loss: 0.2855 - accuracy: 0.8884\n",
            "Epoch 131/350\n",
            "8/8 [==============================] - 0s 3ms/step - loss: 0.2848 - accuracy: 0.8884\n",
            "Epoch 132/350\n",
            "8/8 [==============================] - 0s 4ms/step - loss: 0.2843 - accuracy: 0.8884\n",
            "Epoch 133/350\n",
            "8/8 [==============================] - 0s 3ms/step - loss: 0.2837 - accuracy: 0.8884\n",
            "Epoch 134/350\n",
            "8/8 [==============================] - 0s 3ms/step - loss: 0.2834 - accuracy: 0.8884\n",
            "Epoch 135/350\n",
            "8/8 [==============================] - 0s 2ms/step - loss: 0.2827 - accuracy: 0.8884\n",
            "Epoch 136/350\n",
            "8/8 [==============================] - 0s 2ms/step - loss: 0.2820 - accuracy: 0.8884\n",
            "Epoch 137/350\n",
            "8/8 [==============================] - 0s 3ms/step - loss: 0.2816 - accuracy: 0.8884\n",
            "Epoch 138/350\n",
            "8/8 [==============================] - 0s 2ms/step - loss: 0.2810 - accuracy: 0.8884\n",
            "Epoch 139/350\n",
            "8/8 [==============================] - 0s 2ms/step - loss: 0.2807 - accuracy: 0.8884\n",
            "Epoch 140/350\n",
            "8/8 [==============================] - 0s 3ms/step - loss: 0.2801 - accuracy: 0.8884\n",
            "Epoch 141/350\n",
            "8/8 [==============================] - 0s 4ms/step - loss: 0.2796 - accuracy: 0.8884\n",
            "Epoch 142/350\n",
            "8/8 [==============================] - 0s 2ms/step - loss: 0.2790 - accuracy: 0.8884\n",
            "Epoch 143/350\n",
            "8/8 [==============================] - 0s 2ms/step - loss: 0.2785 - accuracy: 0.8884\n",
            "Epoch 144/350\n",
            "8/8 [==============================] - 0s 2ms/step - loss: 0.2779 - accuracy: 0.8884\n",
            "Epoch 145/350\n",
            "8/8 [==============================] - 0s 2ms/step - loss: 0.2774 - accuracy: 0.8884\n",
            "Epoch 146/350\n",
            "8/8 [==============================] - 0s 2ms/step - loss: 0.2770 - accuracy: 0.8884\n",
            "Epoch 147/350\n",
            "8/8 [==============================] - 0s 2ms/step - loss: 0.2765 - accuracy: 0.8884\n",
            "Epoch 148/350\n",
            "8/8 [==============================] - 0s 3ms/step - loss: 0.2760 - accuracy: 0.8884\n",
            "Epoch 149/350\n",
            "8/8 [==============================] - 0s 3ms/step - loss: 0.2755 - accuracy: 0.8884\n",
            "Epoch 150/350\n",
            "8/8 [==============================] - 0s 2ms/step - loss: 0.2752 - accuracy: 0.8884\n",
            "Epoch 151/350\n",
            "8/8 [==============================] - 0s 2ms/step - loss: 0.2745 - accuracy: 0.8884\n",
            "Epoch 152/350\n",
            "8/8 [==============================] - 0s 4ms/step - loss: 0.2743 - accuracy: 0.8884\n",
            "Epoch 153/350\n",
            "8/8 [==============================] - 0s 2ms/step - loss: 0.2738 - accuracy: 0.8884\n",
            "Epoch 154/350\n",
            "8/8 [==============================] - 0s 3ms/step - loss: 0.2731 - accuracy: 0.8884\n",
            "Epoch 155/350\n",
            "8/8 [==============================] - 0s 3ms/step - loss: 0.2727 - accuracy: 0.8884\n",
            "Epoch 156/350\n",
            "8/8 [==============================] - 0s 3ms/step - loss: 0.2722 - accuracy: 0.8967\n",
            "Epoch 157/350\n",
            "8/8 [==============================] - 0s 3ms/step - loss: 0.2717 - accuracy: 0.8967\n",
            "Epoch 158/350\n",
            "8/8 [==============================] - 0s 2ms/step - loss: 0.2712 - accuracy: 0.8967\n",
            "Epoch 159/350\n",
            "8/8 [==============================] - 0s 2ms/step - loss: 0.2708 - accuracy: 0.8967\n",
            "Epoch 160/350\n",
            "8/8 [==============================] - 0s 3ms/step - loss: 0.2701 - accuracy: 0.8967\n",
            "Epoch 161/350\n",
            "8/8 [==============================] - 0s 5ms/step - loss: 0.2698 - accuracy: 0.8967\n",
            "Epoch 162/350\n",
            "8/8 [==============================] - 0s 2ms/step - loss: 0.2693 - accuracy: 0.8967\n",
            "Epoch 163/350\n",
            "8/8 [==============================] - 0s 3ms/step - loss: 0.2688 - accuracy: 0.8967\n",
            "Epoch 164/350\n",
            "8/8 [==============================] - 0s 2ms/step - loss: 0.2683 - accuracy: 0.8967\n",
            "Epoch 165/350\n",
            "8/8 [==============================] - 0s 3ms/step - loss: 0.2678 - accuracy: 0.8967\n",
            "Epoch 166/350\n",
            "8/8 [==============================] - 0s 2ms/step - loss: 0.2674 - accuracy: 0.8967\n",
            "Epoch 167/350\n",
            "8/8 [==============================] - 0s 4ms/step - loss: 0.2668 - accuracy: 0.8967\n",
            "Epoch 168/350\n",
            "8/8 [==============================] - 0s 2ms/step - loss: 0.2663 - accuracy: 0.8967\n",
            "Epoch 169/350\n",
            "8/8 [==============================] - 0s 2ms/step - loss: 0.2659 - accuracy: 0.8967\n",
            "Epoch 170/350\n",
            "8/8 [==============================] - 0s 3ms/step - loss: 0.2655 - accuracy: 0.8967\n",
            "Epoch 171/350\n",
            "8/8 [==============================] - 0s 2ms/step - loss: 0.2650 - accuracy: 0.8967\n",
            "Epoch 172/350\n",
            "8/8 [==============================] - 0s 3ms/step - loss: 0.2646 - accuracy: 0.8967\n",
            "Epoch 173/350\n",
            "8/8 [==============================] - 0s 3ms/step - loss: 0.2642 - accuracy: 0.8967\n",
            "Epoch 174/350\n",
            "8/8 [==============================] - 0s 2ms/step - loss: 0.2637 - accuracy: 0.8967\n",
            "Epoch 175/350\n",
            "8/8 [==============================] - 0s 2ms/step - loss: 0.2633 - accuracy: 0.8967\n",
            "Epoch 176/350\n",
            "8/8 [==============================] - 0s 2ms/step - loss: 0.2629 - accuracy: 0.8967\n",
            "Epoch 177/350\n",
            "8/8 [==============================] - 0s 3ms/step - loss: 0.2621 - accuracy: 0.8967\n",
            "Epoch 178/350\n",
            "8/8 [==============================] - 0s 3ms/step - loss: 0.2621 - accuracy: 0.9008\n",
            "Epoch 179/350\n",
            "8/8 [==============================] - 0s 3ms/step - loss: 0.2615 - accuracy: 0.9008\n",
            "Epoch 180/350\n",
            "8/8 [==============================] - 0s 3ms/step - loss: 0.2611 - accuracy: 0.9008\n",
            "Epoch 181/350\n",
            "8/8 [==============================] - 0s 3ms/step - loss: 0.2608 - accuracy: 0.9008\n",
            "Epoch 182/350\n",
            "8/8 [==============================] - 0s 2ms/step - loss: 0.2601 - accuracy: 0.9008\n",
            "Epoch 183/350\n",
            "8/8 [==============================] - 0s 3ms/step - loss: 0.2598 - accuracy: 0.9008\n",
            "Epoch 184/350\n",
            "8/8 [==============================] - 0s 2ms/step - loss: 0.2593 - accuracy: 0.9050\n",
            "Epoch 185/350\n",
            "8/8 [==============================] - 0s 2ms/step - loss: 0.2590 - accuracy: 0.9091\n",
            "Epoch 186/350\n",
            "8/8 [==============================] - 0s 3ms/step - loss: 0.2589 - accuracy: 0.9091\n",
            "Epoch 187/350\n",
            "8/8 [==============================] - 0s 2ms/step - loss: 0.2580 - accuracy: 0.9091\n",
            "Epoch 188/350\n",
            "8/8 [==============================] - 0s 3ms/step - loss: 0.2579 - accuracy: 0.9091\n",
            "Epoch 189/350\n",
            "8/8 [==============================] - 0s 3ms/step - loss: 0.2573 - accuracy: 0.9091\n",
            "Epoch 190/350\n",
            "8/8 [==============================] - 0s 3ms/step - loss: 0.2568 - accuracy: 0.9050\n",
            "Epoch 191/350\n",
            "8/8 [==============================] - 0s 4ms/step - loss: 0.2563 - accuracy: 0.9050\n",
            "Epoch 192/350\n",
            "8/8 [==============================] - 0s 3ms/step - loss: 0.2560 - accuracy: 0.9050\n",
            "Epoch 193/350\n",
            "8/8 [==============================] - 0s 2ms/step - loss: 0.2554 - accuracy: 0.9091\n",
            "Epoch 194/350\n",
            "8/8 [==============================] - 0s 2ms/step - loss: 0.2549 - accuracy: 0.9091\n",
            "Epoch 195/350\n",
            "8/8 [==============================] - 0s 2ms/step - loss: 0.2546 - accuracy: 0.9091\n",
            "Epoch 196/350\n",
            "8/8 [==============================] - 0s 3ms/step - loss: 0.2543 - accuracy: 0.9091\n",
            "Epoch 197/350\n",
            "8/8 [==============================] - 0s 2ms/step - loss: 0.2538 - accuracy: 0.9091\n",
            "Epoch 198/350\n",
            "8/8 [==============================] - 0s 2ms/step - loss: 0.2536 - accuracy: 0.9091\n",
            "Epoch 199/350\n",
            "8/8 [==============================] - 0s 2ms/step - loss: 0.2532 - accuracy: 0.9091\n",
            "Epoch 200/350\n",
            "8/8 [==============================] - 0s 2ms/step - loss: 0.2526 - accuracy: 0.9091\n",
            "Epoch 201/350\n",
            "8/8 [==============================] - 0s 3ms/step - loss: 0.2521 - accuracy: 0.9091\n",
            "Epoch 202/350\n",
            "8/8 [==============================] - 0s 2ms/step - loss: 0.2516 - accuracy: 0.9091\n",
            "Epoch 203/350\n",
            "8/8 [==============================] - 0s 2ms/step - loss: 0.2513 - accuracy: 0.9091\n",
            "Epoch 204/350\n",
            "8/8 [==============================] - 0s 4ms/step - loss: 0.2509 - accuracy: 0.9091\n",
            "Epoch 205/350\n",
            "8/8 [==============================] - 0s 3ms/step - loss: 0.2504 - accuracy: 0.9091\n",
            "Epoch 206/350\n",
            "8/8 [==============================] - 0s 2ms/step - loss: 0.2498 - accuracy: 0.9091\n",
            "Epoch 207/350\n",
            "8/8 [==============================] - 0s 3ms/step - loss: 0.2495 - accuracy: 0.9091\n",
            "Epoch 208/350\n",
            "8/8 [==============================] - 0s 2ms/step - loss: 0.2491 - accuracy: 0.9091\n",
            "Epoch 209/350\n",
            "8/8 [==============================] - 0s 3ms/step - loss: 0.2488 - accuracy: 0.9091\n",
            "Epoch 210/350\n",
            "8/8 [==============================] - 0s 3ms/step - loss: 0.2482 - accuracy: 0.9091\n",
            "Epoch 211/350\n",
            "8/8 [==============================] - 0s 2ms/step - loss: 0.2481 - accuracy: 0.9091\n",
            "Epoch 212/350\n",
            "8/8 [==============================] - 0s 2ms/step - loss: 0.2475 - accuracy: 0.9091\n",
            "Epoch 213/350\n",
            "8/8 [==============================] - 0s 3ms/step - loss: 0.2471 - accuracy: 0.9091\n",
            "Epoch 214/350\n",
            "8/8 [==============================] - 0s 2ms/step - loss: 0.2468 - accuracy: 0.9091\n",
            "Epoch 215/350\n",
            "8/8 [==============================] - 0s 2ms/step - loss: 0.2465 - accuracy: 0.9091\n",
            "Epoch 216/350\n",
            "8/8 [==============================] - 0s 3ms/step - loss: 0.2459 - accuracy: 0.9091\n",
            "Epoch 217/350\n",
            "8/8 [==============================] - 0s 4ms/step - loss: 0.2456 - accuracy: 0.9132\n",
            "Epoch 218/350\n",
            "8/8 [==============================] - 0s 2ms/step - loss: 0.2452 - accuracy: 0.9132\n",
            "Epoch 219/350\n",
            "8/8 [==============================] - 0s 3ms/step - loss: 0.2446 - accuracy: 0.9132\n",
            "Epoch 220/350\n",
            "8/8 [==============================] - 0s 3ms/step - loss: 0.2443 - accuracy: 0.9132\n",
            "Epoch 221/350\n",
            "8/8 [==============================] - 0s 3ms/step - loss: 0.2443 - accuracy: 0.9132\n",
            "Epoch 222/350\n",
            "8/8 [==============================] - 0s 3ms/step - loss: 0.2435 - accuracy: 0.9132\n",
            "Epoch 223/350\n",
            "8/8 [==============================] - 0s 2ms/step - loss: 0.2433 - accuracy: 0.9132\n",
            "Epoch 224/350\n",
            "8/8 [==============================] - 0s 2ms/step - loss: 0.2427 - accuracy: 0.9132\n",
            "Epoch 225/350\n",
            "8/8 [==============================] - 0s 3ms/step - loss: 0.2424 - accuracy: 0.9132\n",
            "Epoch 226/350\n",
            "8/8 [==============================] - 0s 3ms/step - loss: 0.2421 - accuracy: 0.9132\n",
            "Epoch 227/350\n",
            "8/8 [==============================] - 0s 2ms/step - loss: 0.2420 - accuracy: 0.9132\n",
            "Epoch 228/350\n",
            "8/8 [==============================] - 0s 2ms/step - loss: 0.2413 - accuracy: 0.9132\n",
            "Epoch 229/350\n",
            "8/8 [==============================] - 0s 3ms/step - loss: 0.2409 - accuracy: 0.9132\n",
            "Epoch 230/350\n",
            "8/8 [==============================] - 0s 4ms/step - loss: 0.2404 - accuracy: 0.9132\n",
            "Epoch 231/350\n",
            "8/8 [==============================] - 0s 2ms/step - loss: 0.2402 - accuracy: 0.9132\n",
            "Epoch 232/350\n",
            "8/8 [==============================] - 0s 3ms/step - loss: 0.2398 - accuracy: 0.9132\n",
            "Epoch 233/350\n",
            "8/8 [==============================] - 0s 4ms/step - loss: 0.2394 - accuracy: 0.9132\n",
            "Epoch 234/350\n",
            "8/8 [==============================] - 0s 3ms/step - loss: 0.2391 - accuracy: 0.9132\n",
            "Epoch 235/350\n",
            "8/8 [==============================] - 0s 3ms/step - loss: 0.2388 - accuracy: 0.9132\n",
            "Epoch 236/350\n",
            "8/8 [==============================] - 0s 3ms/step - loss: 0.2383 - accuracy: 0.9174\n",
            "Epoch 237/350\n",
            "8/8 [==============================] - 0s 2ms/step - loss: 0.2381 - accuracy: 0.9174\n",
            "Epoch 238/350\n",
            "8/8 [==============================] - 0s 2ms/step - loss: 0.2378 - accuracy: 0.9174\n",
            "Epoch 239/350\n",
            "8/8 [==============================] - 0s 4ms/step - loss: 0.2375 - accuracy: 0.9174\n",
            "Epoch 240/350\n",
            "8/8 [==============================] - 0s 2ms/step - loss: 0.2374 - accuracy: 0.9132\n",
            "Epoch 241/350\n",
            "8/8 [==============================] - 0s 2ms/step - loss: 0.2371 - accuracy: 0.9132\n",
            "Epoch 242/350\n",
            "8/8 [==============================] - 0s 2ms/step - loss: 0.2364 - accuracy: 0.9174\n",
            "Epoch 243/350\n",
            "8/8 [==============================] - 0s 2ms/step - loss: 0.2360 - accuracy: 0.9174\n",
            "Epoch 244/350\n",
            "8/8 [==============================] - 0s 3ms/step - loss: 0.2357 - accuracy: 0.9174\n",
            "Epoch 245/350\n",
            "8/8 [==============================] - 0s 3ms/step - loss: 0.2354 - accuracy: 0.9174\n",
            "Epoch 246/350\n",
            "8/8 [==============================] - 0s 2ms/step - loss: 0.2350 - accuracy: 0.9174\n",
            "Epoch 247/350\n",
            "8/8 [==============================] - 0s 2ms/step - loss: 0.2348 - accuracy: 0.9174\n",
            "Epoch 248/350\n",
            "8/8 [==============================] - 0s 3ms/step - loss: 0.2344 - accuracy: 0.9174\n",
            "Epoch 249/350\n",
            "8/8 [==============================] - 0s 2ms/step - loss: 0.2339 - accuracy: 0.9174\n",
            "Epoch 250/350\n",
            "8/8 [==============================] - 0s 3ms/step - loss: 0.2336 - accuracy: 0.9174\n",
            "Epoch 251/350\n",
            "8/8 [==============================] - 0s 3ms/step - loss: 0.2332 - accuracy: 0.9174\n",
            "Epoch 252/350\n",
            "8/8 [==============================] - 0s 2ms/step - loss: 0.2328 - accuracy: 0.9174\n",
            "Epoch 253/350\n",
            "8/8 [==============================] - 0s 3ms/step - loss: 0.2325 - accuracy: 0.9174\n",
            "Epoch 254/350\n",
            "8/8 [==============================] - 0s 2ms/step - loss: 0.2321 - accuracy: 0.9174\n",
            "Epoch 255/350\n",
            "8/8 [==============================] - 0s 3ms/step - loss: 0.2317 - accuracy: 0.9174\n",
            "Epoch 256/350\n",
            "8/8 [==============================] - 0s 3ms/step - loss: 0.2314 - accuracy: 0.9174\n",
            "Epoch 257/350\n",
            "8/8 [==============================] - 0s 3ms/step - loss: 0.2311 - accuracy: 0.9174\n",
            "Epoch 258/350\n",
            "8/8 [==============================] - 0s 3ms/step - loss: 0.2306 - accuracy: 0.9174\n",
            "Epoch 259/350\n",
            "8/8 [==============================] - 0s 3ms/step - loss: 0.2301 - accuracy: 0.9174\n",
            "Epoch 260/350\n",
            "8/8 [==============================] - 0s 2ms/step - loss: 0.2297 - accuracy: 0.9174\n",
            "Epoch 261/350\n",
            "8/8 [==============================] - 0s 2ms/step - loss: 0.2296 - accuracy: 0.9174\n",
            "Epoch 262/350\n",
            "8/8 [==============================] - 0s 3ms/step - loss: 0.2291 - accuracy: 0.9174\n",
            "Epoch 263/350\n",
            "8/8 [==============================] - 0s 3ms/step - loss: 0.2286 - accuracy: 0.9174\n",
            "Epoch 264/350\n",
            "8/8 [==============================] - 0s 3ms/step - loss: 0.2281 - accuracy: 0.9174\n",
            "Epoch 265/350\n",
            "8/8 [==============================] - 0s 3ms/step - loss: 0.2277 - accuracy: 0.9174\n",
            "Epoch 266/350\n",
            "8/8 [==============================] - 0s 3ms/step - loss: 0.2272 - accuracy: 0.9174\n",
            "Epoch 267/350\n",
            "8/8 [==============================] - 0s 2ms/step - loss: 0.2269 - accuracy: 0.9174\n",
            "Epoch 268/350\n",
            "8/8 [==============================] - 0s 3ms/step - loss: 0.2265 - accuracy: 0.9174\n",
            "Epoch 269/350\n",
            "8/8 [==============================] - 0s 2ms/step - loss: 0.2261 - accuracy: 0.9174\n",
            "Epoch 270/350\n",
            "8/8 [==============================] - 0s 3ms/step - loss: 0.2256 - accuracy: 0.9174\n",
            "Epoch 271/350\n",
            "8/8 [==============================] - 0s 2ms/step - loss: 0.2253 - accuracy: 0.9174\n",
            "Epoch 272/350\n",
            "8/8 [==============================] - 0s 2ms/step - loss: 0.2248 - accuracy: 0.9174\n",
            "Epoch 273/350\n",
            "8/8 [==============================] - 0s 3ms/step - loss: 0.2242 - accuracy: 0.9174\n",
            "Epoch 274/350\n",
            "8/8 [==============================] - 0s 3ms/step - loss: 0.2241 - accuracy: 0.9174\n",
            "Epoch 275/350\n",
            "8/8 [==============================] - 0s 2ms/step - loss: 0.2234 - accuracy: 0.9174\n",
            "Epoch 276/350\n",
            "8/8 [==============================] - 0s 3ms/step - loss: 0.2233 - accuracy: 0.9174\n",
            "Epoch 277/350\n",
            "8/8 [==============================] - 0s 2ms/step - loss: 0.2227 - accuracy: 0.9174\n",
            "Epoch 278/350\n",
            "8/8 [==============================] - 0s 2ms/step - loss: 0.2224 - accuracy: 0.9174\n",
            "Epoch 279/350\n",
            "8/8 [==============================] - 0s 3ms/step - loss: 0.2219 - accuracy: 0.9174\n",
            "Epoch 280/350\n",
            "8/8 [==============================] - 0s 2ms/step - loss: 0.2215 - accuracy: 0.9174\n",
            "Epoch 281/350\n",
            "8/8 [==============================] - 0s 3ms/step - loss: 0.2209 - accuracy: 0.9174\n",
            "Epoch 282/350\n",
            "8/8 [==============================] - 0s 3ms/step - loss: 0.2207 - accuracy: 0.9174\n",
            "Epoch 283/350\n",
            "8/8 [==============================] - 0s 2ms/step - loss: 0.2203 - accuracy: 0.9174\n",
            "Epoch 284/350\n",
            "8/8 [==============================] - 0s 2ms/step - loss: 0.2199 - accuracy: 0.9174\n",
            "Epoch 285/350\n",
            "8/8 [==============================] - 0s 3ms/step - loss: 0.2196 - accuracy: 0.9174\n",
            "Epoch 286/350\n",
            "8/8 [==============================] - 0s 3ms/step - loss: 0.2191 - accuracy: 0.9174\n",
            "Epoch 287/350\n",
            "8/8 [==============================] - 0s 3ms/step - loss: 0.2188 - accuracy: 0.9174\n",
            "Epoch 288/350\n",
            "8/8 [==============================] - 0s 3ms/step - loss: 0.2183 - accuracy: 0.9174\n",
            "Epoch 289/350\n",
            "8/8 [==============================] - 0s 2ms/step - loss: 0.2181 - accuracy: 0.9174\n",
            "Epoch 290/350\n",
            "8/8 [==============================] - 0s 3ms/step - loss: 0.2178 - accuracy: 0.9174\n",
            "Epoch 291/350\n",
            "8/8 [==============================] - 0s 3ms/step - loss: 0.2175 - accuracy: 0.9174\n",
            "Epoch 292/350\n",
            "8/8 [==============================] - 0s 2ms/step - loss: 0.2173 - accuracy: 0.9174\n",
            "Epoch 293/350\n",
            "8/8 [==============================] - 0s 3ms/step - loss: 0.2167 - accuracy: 0.9174\n",
            "Epoch 294/350\n",
            "8/8 [==============================] - 0s 3ms/step - loss: 0.2164 - accuracy: 0.9174\n",
            "Epoch 295/350\n",
            "8/8 [==============================] - 0s 2ms/step - loss: 0.2159 - accuracy: 0.9174\n",
            "Epoch 296/350\n",
            "8/8 [==============================] - 0s 2ms/step - loss: 0.2157 - accuracy: 0.9174\n",
            "Epoch 297/350\n",
            "8/8 [==============================] - 0s 3ms/step - loss: 0.2159 - accuracy: 0.9174\n",
            "Epoch 298/350\n",
            "8/8 [==============================] - 0s 2ms/step - loss: 0.2156 - accuracy: 0.9174\n",
            "Epoch 299/350\n",
            "8/8 [==============================] - 0s 3ms/step - loss: 0.2147 - accuracy: 0.9174\n",
            "Epoch 300/350\n",
            "8/8 [==============================] - 0s 2ms/step - loss: 0.2147 - accuracy: 0.9174\n",
            "Epoch 301/350\n",
            "8/8 [==============================] - 0s 3ms/step - loss: 0.2141 - accuracy: 0.9174\n",
            "Epoch 302/350\n",
            "8/8 [==============================] - 0s 2ms/step - loss: 0.2138 - accuracy: 0.9174\n",
            "Epoch 303/350\n",
            "8/8 [==============================] - 0s 2ms/step - loss: 0.2133 - accuracy: 0.9174\n",
            "Epoch 304/350\n",
            "8/8 [==============================] - 0s 3ms/step - loss: 0.2129 - accuracy: 0.9174\n",
            "Epoch 305/350\n",
            "8/8 [==============================] - 0s 3ms/step - loss: 0.2124 - accuracy: 0.9174\n",
            "Epoch 306/350\n",
            "8/8 [==============================] - 0s 4ms/step - loss: 0.2123 - accuracy: 0.9174\n",
            "Epoch 307/350\n",
            "8/8 [==============================] - 0s 3ms/step - loss: 0.2117 - accuracy: 0.9174\n",
            "Epoch 308/350\n",
            "8/8 [==============================] - 0s 3ms/step - loss: 0.2114 - accuracy: 0.9174\n",
            "Epoch 309/350\n",
            "8/8 [==============================] - 0s 2ms/step - loss: 0.2112 - accuracy: 0.9174\n",
            "Epoch 310/350\n",
            "8/8 [==============================] - 0s 3ms/step - loss: 0.2108 - accuracy: 0.9174\n",
            "Epoch 311/350\n",
            "8/8 [==============================] - 0s 3ms/step - loss: 0.2103 - accuracy: 0.9174\n",
            "Epoch 312/350\n",
            "8/8 [==============================] - 0s 2ms/step - loss: 0.2100 - accuracy: 0.9174\n",
            "Epoch 313/350\n",
            "8/8 [==============================] - 0s 2ms/step - loss: 0.2093 - accuracy: 0.9174\n",
            "Epoch 314/350\n",
            "8/8 [==============================] - 0s 2ms/step - loss: 0.2091 - accuracy: 0.9174\n",
            "Epoch 315/350\n",
            "8/8 [==============================] - 0s 2ms/step - loss: 0.2088 - accuracy: 0.9174\n",
            "Epoch 316/350\n",
            "8/8 [==============================] - 0s 3ms/step - loss: 0.2085 - accuracy: 0.9174\n",
            "Epoch 317/350\n",
            "8/8 [==============================] - 0s 3ms/step - loss: 0.2082 - accuracy: 0.9174\n",
            "Epoch 318/350\n",
            "8/8 [==============================] - 0s 2ms/step - loss: 0.2077 - accuracy: 0.9215\n",
            "Epoch 319/350\n",
            "8/8 [==============================] - 0s 3ms/step - loss: 0.2076 - accuracy: 0.9174\n",
            "Epoch 320/350\n",
            "8/8 [==============================] - 0s 3ms/step - loss: 0.2070 - accuracy: 0.9174\n",
            "Epoch 321/350\n",
            "8/8 [==============================] - 0s 3ms/step - loss: 0.2067 - accuracy: 0.9215\n",
            "Epoch 322/350\n",
            "8/8 [==============================] - 0s 2ms/step - loss: 0.2062 - accuracy: 0.9215\n",
            "Epoch 323/350\n",
            "8/8 [==============================] - 0s 2ms/step - loss: 0.2061 - accuracy: 0.9256\n",
            "Epoch 324/350\n",
            "8/8 [==============================] - 0s 3ms/step - loss: 0.2057 - accuracy: 0.9256\n",
            "Epoch 325/350\n",
            "8/8 [==============================] - 0s 2ms/step - loss: 0.2060 - accuracy: 0.9256\n",
            "Epoch 326/350\n",
            "8/8 [==============================] - 0s 3ms/step - loss: 0.2052 - accuracy: 0.9256\n",
            "Epoch 327/350\n",
            "8/8 [==============================] - 0s 2ms/step - loss: 0.2049 - accuracy: 0.9256\n",
            "Epoch 328/350\n",
            "8/8 [==============================] - 0s 3ms/step - loss: 0.2043 - accuracy: 0.9256\n",
            "Epoch 329/350\n",
            "8/8 [==============================] - 0s 2ms/step - loss: 0.2041 - accuracy: 0.9256\n",
            "Epoch 330/350\n",
            "8/8 [==============================] - 0s 4ms/step - loss: 0.2039 - accuracy: 0.9256\n",
            "Epoch 331/350\n",
            "8/8 [==============================] - 0s 3ms/step - loss: 0.2032 - accuracy: 0.9256\n",
            "Epoch 332/350\n",
            "8/8 [==============================] - 0s 2ms/step - loss: 0.2030 - accuracy: 0.9256\n",
            "Epoch 333/350\n",
            "8/8 [==============================] - 0s 2ms/step - loss: 0.2026 - accuracy: 0.9298\n",
            "Epoch 334/350\n",
            "8/8 [==============================] - 0s 3ms/step - loss: 0.2024 - accuracy: 0.9298\n",
            "Epoch 335/350\n",
            "8/8 [==============================] - 0s 3ms/step - loss: 0.2019 - accuracy: 0.9298\n",
            "Epoch 336/350\n",
            "8/8 [==============================] - 0s 2ms/step - loss: 0.2016 - accuracy: 0.9298\n",
            "Epoch 337/350\n",
            "8/8 [==============================] - 0s 3ms/step - loss: 0.2016 - accuracy: 0.9298\n",
            "Epoch 338/350\n",
            "8/8 [==============================] - 0s 2ms/step - loss: 0.2010 - accuracy: 0.9298\n",
            "Epoch 339/350\n",
            "8/8 [==============================] - 0s 3ms/step - loss: 0.2008 - accuracy: 0.9298\n",
            "Epoch 340/350\n",
            "8/8 [==============================] - 0s 2ms/step - loss: 0.2004 - accuracy: 0.9298\n",
            "Epoch 341/350\n",
            "8/8 [==============================] - 0s 3ms/step - loss: 0.2000 - accuracy: 0.9298\n",
            "Epoch 342/350\n",
            "8/8 [==============================] - 0s 2ms/step - loss: 0.1997 - accuracy: 0.9298\n",
            "Epoch 343/350\n",
            "8/8 [==============================] - 0s 2ms/step - loss: 0.1996 - accuracy: 0.9298\n",
            "Epoch 344/350\n",
            "8/8 [==============================] - 0s 3ms/step - loss: 0.1989 - accuracy: 0.9298\n",
            "Epoch 345/350\n",
            "8/8 [==============================] - 0s 3ms/step - loss: 0.1989 - accuracy: 0.9298\n",
            "Epoch 346/350\n",
            "8/8 [==============================] - 0s 3ms/step - loss: 0.1987 - accuracy: 0.9298\n",
            "Epoch 347/350\n",
            "8/8 [==============================] - 0s 2ms/step - loss: 0.1981 - accuracy: 0.9298\n",
            "Epoch 348/350\n",
            "8/8 [==============================] - 0s 2ms/step - loss: 0.1978 - accuracy: 0.9298\n",
            "Epoch 349/350\n",
            "8/8 [==============================] - 0s 4ms/step - loss: 0.1972 - accuracy: 0.9298\n",
            "Epoch 350/350\n",
            "8/8 [==============================] - 0s 3ms/step - loss: 0.1971 - accuracy: 0.9298\n"
          ]
        },
        {
          "output_type": "execute_result",
          "data": {
            "text/plain": [
              "<keras.callbacks.History at 0x7fc38d9978d0>"
            ]
          },
          "metadata": {},
          "execution_count": 59
        }
      ]
    },
    {
      "cell_type": "code",
      "metadata": {
        "id": "lqWpYBlptvdK",
        "colab": {
          "base_uri": "https://localhost:8080/"
        },
        "outputId": "9aab2ae8-45bb-4335-c40f-9fd69f3b6070"
      },
      "source": [
        "Y_pred_nn_new = classifier.predict(X_test)\n",
        "Y_pred_nn_new = (Y_pred_nn_new > 0.5)\n",
        "\n",
        "nn_score_new = accuracy_score(Y_test,Y_pred_nn_new)*100\n",
        "nn_cm=confusion_matrix(Y_test,Y_pred_nn_new)\n",
        "\n",
        "print(\"The confusion matrix of Neural Networks is\\n\\n\"+str(nn_cm))\n",
        "\n",
        "print(\"The accuracy score achieved using Neural Network is: \"+str(nn_score_new)+\" %\")"
      ],
      "execution_count": null,
      "outputs": [
        {
          "output_type": "stream",
          "name": "stdout",
          "text": [
            "The confusion matrix of Neural Networks is\n",
            "\n",
            "[[24  3]\n",
            " [ 4 30]]\n",
            "The accuracy score achieved using Neural Network is: 88.52459016393442 %\n"
          ]
        }
      ]
    },
    {
      "cell_type": "markdown",
      "metadata": {
        "id": "dSBkR7qNtvdM"
      },
      "source": [
        "**STEP 9: Comparison of Accuracies Before and After Optimization**"
      ]
    },
    {
      "cell_type": "code",
      "metadata": {
        "id": "kqsFZnfctvdM",
        "colab": {
          "base_uri": "https://localhost:8080/"
        },
        "outputId": "30fc4af2-11e3-4694-c187-2bcbf38c7e8d"
      },
      "source": [
        "scores = [logreg_score,nb_score,svm_score,knn_score,dt_score,rf_score,nn_score]\n",
        "algorithms = [\"Logistic Regression\",\"Naive Bayes\",\"Support Vector Machine\",\"K-Nearest Neighbors\",\"Decision Tree\",\"Random Forest\",\"Neural Network\"]    \n",
        "\n",
        "for i in range(len(algorithms)):\n",
        "    print(\"The accuracy score achieved using \"+algorithms[i]+\" before Optimization is: \"+str(scores[i])+\" %\")"
      ],
      "execution_count": null,
      "outputs": [
        {
          "output_type": "stream",
          "name": "stdout",
          "text": [
            "The accuracy score achieved using Logistic Regression before Optimization is: 85.24590163934425 %\n",
            "The accuracy score achieved using Naive Bayes before Optimization is: 85.24590163934425 %\n",
            "The accuracy score achieved using Support Vector Machine before Optimization is: 81.9672131147541 %\n",
            "The accuracy score achieved using K-Nearest Neighbors before Optimization is: 83.60655737704919 %\n",
            "The accuracy score achieved using Decision Tree before Optimization is: 78.68852459016394 %\n",
            "The accuracy score achieved using Random Forest before Optimization is: 88.52459016393442 %\n",
            "The accuracy score achieved using Neural Network before Optimization is: 90.1639344262295 %\n"
          ]
        }
      ]
    },
    {
      "cell_type": "code",
      "metadata": {
        "id": "mfdUtX8TtvdW",
        "colab": {
          "base_uri": "https://localhost:8080/"
        },
        "outputId": "0b783827-cd79-45a8-fbd5-058d60645f4f"
      },
      "source": [
        "scores_new = [logreg_score,nb_score,svm_score_new,knn_score_new,dt_score_new,rf_score_new,nn_score_new]\n",
        "algorithms = [\"Logistic Regression\",\"Naive Bayes\",\"Support Vector Machine\",\"K-Nearest Neighbors\",\"Decision Tree\",\"Random Forest\",\"Neural Network\"]    \n",
        "\n",
        "for i in range(len(algorithms)):\n",
        "    print(\"The accuracy score achieved using \"+algorithms[i]+\" after Optimization is: \"+str(scores_new[i])+\" %\")"
      ],
      "execution_count": null,
      "outputs": [
        {
          "output_type": "stream",
          "name": "stdout",
          "text": [
            "The accuracy score achieved using Logistic Regression after Optimization is: 85.24590163934425 %\n",
            "The accuracy score achieved using Naive Bayes after Optimization is: 85.24590163934425 %\n",
            "The accuracy score achieved using Support Vector Machine after Optimization is: 86.88524590163934 %\n",
            "The accuracy score achieved using K-Nearest Neighbors after Optimization is: 88.52459016393442 %\n",
            "The accuracy score achieved using Decision Tree after Optimization is: 80.32786885245902 %\n",
            "The accuracy score achieved using Random Forest after Optimization is: 91.80327868852459 %\n",
            "The accuracy score achieved using Neural Network after Optimization is: 88.52459016393442 %\n"
          ]
        }
      ]
    },
    {
      "cell_type": "code",
      "metadata": {
        "id": "TqwsMdVUtvdZ"
      },
      "source": [
        "finals=pd.DataFrame([[\"Logistic Regression\",logreg_score,logreg_score],[\"Naive Bayes\",nb_score,nb_score],[\"Support Vector Machine\",svm_score,svm_score_new],[\"K-Nearest Neighbors\",knn_score,knn_score_new],[\"Decision Tree\",dt_score,dt_score_new],[\"Random Forest\",rf_score,rf_score_new],[\"Neural Network\",nn_score,nn_score_new]],columns=['Algorithm','Accuracy before Optimization','Accuracy after Optimization'])"
      ],
      "execution_count": null,
      "outputs": []
    },
    {
      "cell_type": "code",
      "metadata": {
        "id": "_ejxyVtxtvdk",
        "colab": {
          "base_uri": "https://localhost:8080/",
          "height": 266
        },
        "outputId": "9e24eb87-3774-4df5-e3f6-199ad635f4ab"
      },
      "source": [
        "finals"
      ],
      "execution_count": null,
      "outputs": [
        {
          "output_type": "execute_result",
          "data": {
            "text/html": [
              "<div>\n",
              "<style scoped>\n",
              "    .dataframe tbody tr th:only-of-type {\n",
              "        vertical-align: middle;\n",
              "    }\n",
              "\n",
              "    .dataframe tbody tr th {\n",
              "        vertical-align: top;\n",
              "    }\n",
              "\n",
              "    .dataframe thead th {\n",
              "        text-align: right;\n",
              "    }\n",
              "</style>\n",
              "<table border=\"1\" class=\"dataframe\">\n",
              "  <thead>\n",
              "    <tr style=\"text-align: right;\">\n",
              "      <th></th>\n",
              "      <th>Algorithm</th>\n",
              "      <th>Accuracy before Optimization</th>\n",
              "      <th>Accuracy after Optimization</th>\n",
              "    </tr>\n",
              "  </thead>\n",
              "  <tbody>\n",
              "    <tr>\n",
              "      <th>0</th>\n",
              "      <td>Logistic Regression</td>\n",
              "      <td>85.245902</td>\n",
              "      <td>85.245902</td>\n",
              "    </tr>\n",
              "    <tr>\n",
              "      <th>1</th>\n",
              "      <td>Naive Bayes</td>\n",
              "      <td>85.245902</td>\n",
              "      <td>85.245902</td>\n",
              "    </tr>\n",
              "    <tr>\n",
              "      <th>2</th>\n",
              "      <td>Support Vector Machine</td>\n",
              "      <td>81.967213</td>\n",
              "      <td>86.885246</td>\n",
              "    </tr>\n",
              "    <tr>\n",
              "      <th>3</th>\n",
              "      <td>K-Nearest Neighbors</td>\n",
              "      <td>83.606557</td>\n",
              "      <td>88.524590</td>\n",
              "    </tr>\n",
              "    <tr>\n",
              "      <th>4</th>\n",
              "      <td>Decision Tree</td>\n",
              "      <td>78.688525</td>\n",
              "      <td>80.327869</td>\n",
              "    </tr>\n",
              "    <tr>\n",
              "      <th>5</th>\n",
              "      <td>Random Forest</td>\n",
              "      <td>88.524590</td>\n",
              "      <td>91.803279</td>\n",
              "    </tr>\n",
              "    <tr>\n",
              "      <th>6</th>\n",
              "      <td>Neural Network</td>\n",
              "      <td>90.163934</td>\n",
              "      <td>88.524590</td>\n",
              "    </tr>\n",
              "  </tbody>\n",
              "</table>\n",
              "</div>"
            ],
            "text/plain": [
              "                Algorithm  ...  Accuracy after Optimization\n",
              "0     Logistic Regression  ...                    85.245902\n",
              "1             Naive Bayes  ...                    85.245902\n",
              "2  Support Vector Machine  ...                    86.885246\n",
              "3     K-Nearest Neighbors  ...                    88.524590\n",
              "4           Decision Tree  ...                    80.327869\n",
              "5           Random Forest  ...                    91.803279\n",
              "6          Neural Network  ...                    88.524590\n",
              "\n",
              "[7 rows x 3 columns]"
            ]
          },
          "metadata": {},
          "execution_count": 64
        }
      ]
    },
    {
      "cell_type": "code",
      "metadata": {
        "id": "q0FpBqXvtvdn",
        "colab": {
          "base_uri": "https://localhost:8080/",
          "height": 519
        },
        "outputId": "97f937d3-fa49-40f3-ee50-0e0e83102c23"
      },
      "source": [
        "sns.set(rc={'figure.figsize':(15,7)})\n",
        "plt.xlabel(\"Algorithms\")\n",
        "plt.ylabel(\"Accuracy score\")\n",
        "\n",
        "sns.barplot(algorithms,scores_new)"
      ],
      "execution_count": null,
      "outputs": [
        {
          "output_type": "stream",
          "name": "stderr",
          "text": [
            "/usr/local/lib/python3.7/dist-packages/seaborn/_decorators.py:43: FutureWarning: Pass the following variables as keyword args: x, y. From version 0.12, the only valid positional argument will be `data`, and passing other arguments without an explicit keyword will result in an error or misinterpretation.\n",
            "  FutureWarning\n"
          ]
        },
        {
          "output_type": "execute_result",
          "data": {
            "text/plain": [
              "<matplotlib.axes._subplots.AxesSubplot at 0x7fc390e8e890>"
            ]
          },
          "metadata": {},
          "execution_count": 65
        },
        {
          "output_type": "display_data",
          "data": {
            "image/png": "[encoded data removed]",
            "text/plain": [
              "<Figure size 1080x504 with 1 Axes>"
            ]
          },
          "metadata": {}
        }
      ]
    },
    {
      "cell_type": "code",
      "metadata": {
        "id": "fhRAdh-Jtvdq",
        "colab": {
          "base_uri": "https://localhost:8080/",
          "height": 465
        },
        "outputId": "7b9a4d1d-1dc0-49b5-feba-83438fa53ec4"
      },
      "source": [
        "sns.set(rc={'figure.figsize':(15,7)})\n",
        "plt.xlabel(\"Algorithms\")\n",
        "plt.ylabel(\"Accuracy score\")\n",
        "\n",
        "sns.barplot(algorithms,scores)"
      ],
      "execution_count": null,
      "outputs": [
        {
          "output_type": "execute_result",
          "data": {
            "text/plain": [
              "<matplotlib.axes._subplots.AxesSubplot at 0x7ff3d43d28d0>"
            ]
          },
          "metadata": {
            "tags": []
          },
          "execution_count": 64
        },
        {
          "output_type": "display_data",
          "data": {
            "image/png": "[encoded data removed]",
            "text/plain": [
              "<Figure size 1080x504 with 1 Axes>"
            ]
          },
          "metadata": {
            "tags": []
          }
        }
      ]
    },
    {
      "cell_type": "code",
      "metadata": {
        "id": "U3VSpHWatvdt"
      },
      "source": [
        ""
      ],
      "execution_count": null,
      "outputs": []
    }
  ]
}